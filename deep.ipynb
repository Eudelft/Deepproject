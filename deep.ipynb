{
 "cells": [
  {
   "cell_type": "markdown",
   "metadata": {},
   "source": [
    "# Reproduction for \"Driver Identiﬁcation Based on Vehicle Telematics Data using LSTM-Recurrent Neural Network\""
   ]
  },
  {
   "cell_type": "markdown",
   "metadata": {},
   "source": [
    "Authors:  \n",
    "Daniel Cisneros Acevedo (4657349)  \n",
    "Emre Ünlü (5404290)  \n",
    "Stijn Waltmann (4548035) "
   ]
  },
  {
   "cell_type": "markdown",
   "metadata": {},
   "source": [
    "The goal of this blog is to reproduce the paper [Driver Identification Based on Vehicle Telematics Data using LSTM-Recurrent Neural Network](https://arxiv.org/abs/1911.08030). This paper uses vehicle telematics data (OBD-II) with machine learning tools to classify the driving style of a driver. The proposed model is a Long-Short Term Memory (LSTMs), this is an RNN architectures variant. For this reproduction, our group is assigned to reproduce Figures 9 & 10. These figures compare the accuracy of LTSMs against FCNN, Decision tree, and Random Forest models by inducing increasing levels of noise on the test data. We have chosen to do a mix of reproducing a small portion of the code and using some of the criteria given on Brightspace."
   ]
  },
  {
   "cell_type": "markdown",
   "metadata": {},
   "source": [
    "<figure>\n",
    "  <img src=\"Figure9.png\" ref=\"Figure 9\" width=\"400\">\n",
    "  <img src=\"Figure10.png\" ref=\"Figure 9\" width=\"480\">\n",
    "  <figcaption>Figure 9 & 10</figcaption>\n",
    "</figure>"
   ]
  },
  {
   "cell_type": "markdown",
   "metadata": {},
   "source": [
    "## Inspecting the code"
   ]
  },
  {
   "cell_type": "markdown",
   "metadata": {},
   "source": [
    "First look at the code it seems a bit messy, with multiple imports and multiple functions defined throughout the code. When running the code we seem to have trouble with X_test_5. Also, the author of the paper mentioned the code could have some issues because it was developed in a different setting.\n",
    "\n",
    "We have copied several functions from the author's main code to our code main_functions.py and added docstrings for further clarification"
   ]
  },
  {
   "cell_type": "markdown",
   "metadata": {},
   "source": [
    "## Data"
   ]
  },
  {
   "cell_type": "markdown",
   "metadata": {},
   "source": [
    "There are three datasets from which one is of importance to us. That is the security driving dataset, collected by KIA Motors Corporation car in an uncontrolled environment. This is the only relevant dataset for this reproduction because figures 9 & 10 only contain these data points."
   ]
  },
  {
   "cell_type": "code",
   "execution_count": 1,
   "metadata": {},
   "outputs": [],
   "source": [
    "%load_ext autoreload\n",
    "%autoreload 2\n",
    "\n",
    "# import packages\n",
    "import os\n",
    "import pandas as pd\n",
    "import numpy as np\n",
    "import matplotlib as mpl\n",
    "import matplotlib.pyplot as plt\n",
    "mpl.style.use('ggplot')\n",
    "import os\n",
    "import tensorflow as tf\n",
    "from tensorflow.python.client import device_lib\n",
    "from keras.models import load_model\n",
    "from sklearn.preprocessing import StandardScaler\n",
    "\n",
    "# import functions from main.py\n",
    "from main_functions import *"
   ]
  },
  {
   "cell_type": "markdown",
   "metadata": {},
   "source": [
    "The data from the Security Driving Dataset is shown below below. There are 94380 datapoints and 54 columns. The \"Class\" represents the driver_id.\n",
    "It's not a bad idea to look at the data distribution of the classes as class imbalance may affect model performance. Note, there are a total of 10 classes, or drivers in this case."
   ]
  },
  {
   "cell_type": "code",
   "execution_count": 2,
   "metadata": {},
   "outputs": [
    {
     "data": {
      "text/html": [
       "<div>\n",
       "<style scoped>\n",
       "    .dataframe tbody tr th:only-of-type {\n",
       "        vertical-align: middle;\n",
       "    }\n",
       "\n",
       "    .dataframe tbody tr th {\n",
       "        vertical-align: top;\n",
       "    }\n",
       "\n",
       "    .dataframe thead th {\n",
       "        text-align: right;\n",
       "    }\n",
       "</style>\n",
       "<table border=\"1\" class=\"dataframe\">\n",
       "  <thead>\n",
       "    <tr style=\"text-align: right;\">\n",
       "      <th></th>\n",
       "      <th>Time(s)</th>\n",
       "      <th>Class</th>\n",
       "      <th>PathOrder</th>\n",
       "      <th>Fuel_consumption</th>\n",
       "      <th>Accelerator_Pedal_value</th>\n",
       "      <th>Throttle_position_signal</th>\n",
       "      <th>Short_Term_Fuel_Trim_Bank1</th>\n",
       "      <th>Intake_air_pressure</th>\n",
       "      <th>Filtered_Accelerator_Pedal_value</th>\n",
       "      <th>Absolute_throttle_position</th>\n",
       "      <th>...</th>\n",
       "      <th>Converter_clutch</th>\n",
       "      <th>Gear_Selection</th>\n",
       "      <th>Vehicle_speed</th>\n",
       "      <th>Acceleration_speed_-_Longitudinal</th>\n",
       "      <th>Indication_of_brake_switch_ON/OFF</th>\n",
       "      <th>Master_cylinder_pressure</th>\n",
       "      <th>Calculated_road_gradient</th>\n",
       "      <th>Acceleration_speed_-_Lateral</th>\n",
       "      <th>Steering_wheel_speed</th>\n",
       "      <th>Steering_wheel_angle</th>\n",
       "    </tr>\n",
       "  </thead>\n",
       "  <tbody>\n",
       "    <tr>\n",
       "      <th>0</th>\n",
       "      <td>1</td>\n",
       "      <td>A</td>\n",
       "      <td>1</td>\n",
       "      <td>268.8</td>\n",
       "      <td>0.0</td>\n",
       "      <td>5.2</td>\n",
       "      <td>0.0</td>\n",
       "      <td>33</td>\n",
       "      <td>0</td>\n",
       "      <td>13.3</td>\n",
       "      <td>...</td>\n",
       "      <td>0</td>\n",
       "      <td>0</td>\n",
       "      <td>0</td>\n",
       "      <td>-8.5</td>\n",
       "      <td>1</td>\n",
       "      <td>325.5</td>\n",
       "      <td>0.0</td>\n",
       "      <td>-8.8</td>\n",
       "      <td>0</td>\n",
       "      <td>-3.4</td>\n",
       "    </tr>\n",
       "    <tr>\n",
       "      <th>1</th>\n",
       "      <td>2</td>\n",
       "      <td>A</td>\n",
       "      <td>1</td>\n",
       "      <td>243.2</td>\n",
       "      <td>0.0</td>\n",
       "      <td>6.1</td>\n",
       "      <td>0.0</td>\n",
       "      <td>40</td>\n",
       "      <td>0</td>\n",
       "      <td>13.7</td>\n",
       "      <td>...</td>\n",
       "      <td>0</td>\n",
       "      <td>0</td>\n",
       "      <td>0</td>\n",
       "      <td>0.1</td>\n",
       "      <td>1</td>\n",
       "      <td>0.9</td>\n",
       "      <td>0.0</td>\n",
       "      <td>-0.2</td>\n",
       "      <td>0</td>\n",
       "      <td>-3.6</td>\n",
       "    </tr>\n",
       "    <tr>\n",
       "      <th>2</th>\n",
       "      <td>3</td>\n",
       "      <td>A</td>\n",
       "      <td>1</td>\n",
       "      <td>217.6</td>\n",
       "      <td>0.0</td>\n",
       "      <td>5.2</td>\n",
       "      <td>0.0</td>\n",
       "      <td>41</td>\n",
       "      <td>0</td>\n",
       "      <td>13.7</td>\n",
       "      <td>...</td>\n",
       "      <td>0</td>\n",
       "      <td>0</td>\n",
       "      <td>0</td>\n",
       "      <td>0.1</td>\n",
       "      <td>1</td>\n",
       "      <td>0.9</td>\n",
       "      <td>0.0</td>\n",
       "      <td>-0.2</td>\n",
       "      <td>0</td>\n",
       "      <td>-3.6</td>\n",
       "    </tr>\n",
       "    <tr>\n",
       "      <th>3</th>\n",
       "      <td>4</td>\n",
       "      <td>A</td>\n",
       "      <td>1</td>\n",
       "      <td>204.8</td>\n",
       "      <td>0.0</td>\n",
       "      <td>4.7</td>\n",
       "      <td>0.0</td>\n",
       "      <td>38</td>\n",
       "      <td>0</td>\n",
       "      <td>13.3</td>\n",
       "      <td>...</td>\n",
       "      <td>0</td>\n",
       "      <td>0</td>\n",
       "      <td>0</td>\n",
       "      <td>0.1</td>\n",
       "      <td>1</td>\n",
       "      <td>0.9</td>\n",
       "      <td>0.0</td>\n",
       "      <td>-0.2</td>\n",
       "      <td>0</td>\n",
       "      <td>-3.6</td>\n",
       "    </tr>\n",
       "    <tr>\n",
       "      <th>4</th>\n",
       "      <td>5</td>\n",
       "      <td>A</td>\n",
       "      <td>1</td>\n",
       "      <td>217.6</td>\n",
       "      <td>0.0</td>\n",
       "      <td>5.7</td>\n",
       "      <td>0.0</td>\n",
       "      <td>40</td>\n",
       "      <td>0</td>\n",
       "      <td>13.7</td>\n",
       "      <td>...</td>\n",
       "      <td>0</td>\n",
       "      <td>0</td>\n",
       "      <td>0</td>\n",
       "      <td>0.1</td>\n",
       "      <td>1</td>\n",
       "      <td>0.9</td>\n",
       "      <td>0.0</td>\n",
       "      <td>-0.2</td>\n",
       "      <td>0</td>\n",
       "      <td>-3.5</td>\n",
       "    </tr>\n",
       "    <tr>\n",
       "      <th>...</th>\n",
       "      <td>...</td>\n",
       "      <td>...</td>\n",
       "      <td>...</td>\n",
       "      <td>...</td>\n",
       "      <td>...</td>\n",
       "      <td>...</td>\n",
       "      <td>...</td>\n",
       "      <td>...</td>\n",
       "      <td>...</td>\n",
       "      <td>...</td>\n",
       "      <td>...</td>\n",
       "      <td>...</td>\n",
       "      <td>...</td>\n",
       "      <td>...</td>\n",
       "      <td>...</td>\n",
       "      <td>...</td>\n",
       "      <td>...</td>\n",
       "      <td>...</td>\n",
       "      <td>...</td>\n",
       "      <td>...</td>\n",
       "      <td>...</td>\n",
       "    </tr>\n",
       "    <tr>\n",
       "      <th>94375</th>\n",
       "      <td>2564</td>\n",
       "      <td>D</td>\n",
       "      <td>2</td>\n",
       "      <td>345.6</td>\n",
       "      <td>0.0</td>\n",
       "      <td>6.6</td>\n",
       "      <td>7.0</td>\n",
       "      <td>0</td>\n",
       "      <td>0</td>\n",
       "      <td>14.5</td>\n",
       "      <td>...</td>\n",
       "      <td>0</td>\n",
       "      <td>7</td>\n",
       "      <td>0</td>\n",
       "      <td>-0.2</td>\n",
       "      <td>2</td>\n",
       "      <td>2.3</td>\n",
       "      <td>0.0</td>\n",
       "      <td>0.0</td>\n",
       "      <td>0</td>\n",
       "      <td>-13.2</td>\n",
       "    </tr>\n",
       "    <tr>\n",
       "      <th>94376</th>\n",
       "      <td>2565</td>\n",
       "      <td>D</td>\n",
       "      <td>2</td>\n",
       "      <td>345.6</td>\n",
       "      <td>0.0</td>\n",
       "      <td>6.6</td>\n",
       "      <td>7.0</td>\n",
       "      <td>0</td>\n",
       "      <td>0</td>\n",
       "      <td>14.5</td>\n",
       "      <td>...</td>\n",
       "      <td>0</td>\n",
       "      <td>7</td>\n",
       "      <td>0</td>\n",
       "      <td>0.1</td>\n",
       "      <td>2</td>\n",
       "      <td>8.7</td>\n",
       "      <td>0.0</td>\n",
       "      <td>-0.1</td>\n",
       "      <td>0</td>\n",
       "      <td>-13.0</td>\n",
       "    </tr>\n",
       "    <tr>\n",
       "      <th>94377</th>\n",
       "      <td>2566</td>\n",
       "      <td>D</td>\n",
       "      <td>2</td>\n",
       "      <td>345.6</td>\n",
       "      <td>0.0</td>\n",
       "      <td>6.6</td>\n",
       "      <td>7.0</td>\n",
       "      <td>0</td>\n",
       "      <td>0</td>\n",
       "      <td>14.5</td>\n",
       "      <td>...</td>\n",
       "      <td>0</td>\n",
       "      <td>0</td>\n",
       "      <td>0</td>\n",
       "      <td>-0.2</td>\n",
       "      <td>2</td>\n",
       "      <td>12.6</td>\n",
       "      <td>0.0</td>\n",
       "      <td>0.0</td>\n",
       "      <td>0</td>\n",
       "      <td>-13.2</td>\n",
       "    </tr>\n",
       "    <tr>\n",
       "      <th>94378</th>\n",
       "      <td>2567</td>\n",
       "      <td>D</td>\n",
       "      <td>2</td>\n",
       "      <td>332.8</td>\n",
       "      <td>0.0</td>\n",
       "      <td>5.7</td>\n",
       "      <td>6.3</td>\n",
       "      <td>0</td>\n",
       "      <td>0</td>\n",
       "      <td>14.1</td>\n",
       "      <td>...</td>\n",
       "      <td>0</td>\n",
       "      <td>0</td>\n",
       "      <td>0</td>\n",
       "      <td>-0.2</td>\n",
       "      <td>2</td>\n",
       "      <td>13.0</td>\n",
       "      <td>0.0</td>\n",
       "      <td>0.0</td>\n",
       "      <td>0</td>\n",
       "      <td>-13.3</td>\n",
       "    </tr>\n",
       "    <tr>\n",
       "      <th>94379</th>\n",
       "      <td>2568</td>\n",
       "      <td>D</td>\n",
       "      <td>2</td>\n",
       "      <td>281.6</td>\n",
       "      <td>0.0</td>\n",
       "      <td>5.2</td>\n",
       "      <td>5.5</td>\n",
       "      <td>0</td>\n",
       "      <td>0</td>\n",
       "      <td>13.7</td>\n",
       "      <td>...</td>\n",
       "      <td>0</td>\n",
       "      <td>0</td>\n",
       "      <td>0</td>\n",
       "      <td>-0.2</td>\n",
       "      <td>2</td>\n",
       "      <td>8.2</td>\n",
       "      <td>0.0</td>\n",
       "      <td>-0.1</td>\n",
       "      <td>0</td>\n",
       "      <td>-13.3</td>\n",
       "    </tr>\n",
       "  </tbody>\n",
       "</table>\n",
       "<p>94380 rows × 54 columns</p>\n",
       "</div>"
      ],
      "text/plain": [
       "       Time(s) Class  PathOrder  Fuel_consumption  Accelerator_Pedal_value  \\\n",
       "0            1     A          1             268.8                      0.0   \n",
       "1            2     A          1             243.2                      0.0   \n",
       "2            3     A          1             217.6                      0.0   \n",
       "3            4     A          1             204.8                      0.0   \n",
       "4            5     A          1             217.6                      0.0   \n",
       "...        ...   ...        ...               ...                      ...   \n",
       "94375     2564     D          2             345.6                      0.0   \n",
       "94376     2565     D          2             345.6                      0.0   \n",
       "94377     2566     D          2             345.6                      0.0   \n",
       "94378     2567     D          2             332.8                      0.0   \n",
       "94379     2568     D          2             281.6                      0.0   \n",
       "\n",
       "       Throttle_position_signal  Short_Term_Fuel_Trim_Bank1  \\\n",
       "0                           5.2                         0.0   \n",
       "1                           6.1                         0.0   \n",
       "2                           5.2                         0.0   \n",
       "3                           4.7                         0.0   \n",
       "4                           5.7                         0.0   \n",
       "...                         ...                         ...   \n",
       "94375                       6.6                         7.0   \n",
       "94376                       6.6                         7.0   \n",
       "94377                       6.6                         7.0   \n",
       "94378                       5.7                         6.3   \n",
       "94379                       5.2                         5.5   \n",
       "\n",
       "       Intake_air_pressure  Filtered_Accelerator_Pedal_value  \\\n",
       "0                       33                                 0   \n",
       "1                       40                                 0   \n",
       "2                       41                                 0   \n",
       "3                       38                                 0   \n",
       "4                       40                                 0   \n",
       "...                    ...                               ...   \n",
       "94375                    0                                 0   \n",
       "94376                    0                                 0   \n",
       "94377                    0                                 0   \n",
       "94378                    0                                 0   \n",
       "94379                    0                                 0   \n",
       "\n",
       "       Absolute_throttle_position  ...  Converter_clutch  Gear_Selection  \\\n",
       "0                            13.3  ...                 0               0   \n",
       "1                            13.7  ...                 0               0   \n",
       "2                            13.7  ...                 0               0   \n",
       "3                            13.3  ...                 0               0   \n",
       "4                            13.7  ...                 0               0   \n",
       "...                           ...  ...               ...             ...   \n",
       "94375                        14.5  ...                 0               7   \n",
       "94376                        14.5  ...                 0               7   \n",
       "94377                        14.5  ...                 0               0   \n",
       "94378                        14.1  ...                 0               0   \n",
       "94379                        13.7  ...                 0               0   \n",
       "\n",
       "       Vehicle_speed  Acceleration_speed_-_Longitudinal  \\\n",
       "0                  0                               -8.5   \n",
       "1                  0                                0.1   \n",
       "2                  0                                0.1   \n",
       "3                  0                                0.1   \n",
       "4                  0                                0.1   \n",
       "...              ...                                ...   \n",
       "94375              0                               -0.2   \n",
       "94376              0                                0.1   \n",
       "94377              0                               -0.2   \n",
       "94378              0                               -0.2   \n",
       "94379              0                               -0.2   \n",
       "\n",
       "       Indication_of_brake_switch_ON/OFF  Master_cylinder_pressure  \\\n",
       "0                                      1                     325.5   \n",
       "1                                      1                       0.9   \n",
       "2                                      1                       0.9   \n",
       "3                                      1                       0.9   \n",
       "4                                      1                       0.9   \n",
       "...                                  ...                       ...   \n",
       "94375                                  2                       2.3   \n",
       "94376                                  2                       8.7   \n",
       "94377                                  2                      12.6   \n",
       "94378                                  2                      13.0   \n",
       "94379                                  2                       8.2   \n",
       "\n",
       "       Calculated_road_gradient  Acceleration_speed_-_Lateral  \\\n",
       "0                           0.0                          -8.8   \n",
       "1                           0.0                          -0.2   \n",
       "2                           0.0                          -0.2   \n",
       "3                           0.0                          -0.2   \n",
       "4                           0.0                          -0.2   \n",
       "...                         ...                           ...   \n",
       "94375                       0.0                           0.0   \n",
       "94376                       0.0                          -0.1   \n",
       "94377                       0.0                           0.0   \n",
       "94378                       0.0                           0.0   \n",
       "94379                       0.0                          -0.1   \n",
       "\n",
       "       Steering_wheel_speed  Steering_wheel_angle  \n",
       "0                         0                  -3.4  \n",
       "1                         0                  -3.6  \n",
       "2                         0                  -3.6  \n",
       "3                         0                  -3.6  \n",
       "4                         0                  -3.5  \n",
       "...                     ...                   ...  \n",
       "94375                     0                 -13.2  \n",
       "94376                     0                 -13.0  \n",
       "94377                     0                 -13.2  \n",
       "94378                     0                 -13.3  \n",
       "94379                     0                 -13.3  \n",
       "\n",
       "[94380 rows x 54 columns]"
      ]
     },
     "execution_count": 2,
     "metadata": {},
     "output_type": "execute_result"
    }
   ],
   "source": [
    "# read data\n",
    "df = pd.read_csv('./Data/korea_vehicledata.csv')\n",
    "df"
   ]
  },
  {
   "cell_type": "code",
   "execution_count": 3,
   "metadata": {},
   "outputs": [
    {
     "name": "stdout",
     "output_type": "stream",
     "text": [
      "Class D and B have the highest number of datapoints\n"
     ]
    },
    {
     "data": {
      "text/plain": [
       "Text(0.5, 0, 'Classes')"
      ]
     },
     "execution_count": 3,
     "metadata": {},
     "output_type": "execute_result"
    },
    {
     "data": {
      "image/png": "[encoded data removed]",
      "text/plain": [
       "<Figure size 432x288 with 1 Axes>"
      ]
     },
     "metadata": {},
     "output_type": "display_data"
    }
   ],
   "source": [
    "# data distribution per class\n",
    "\n",
    "print('Class D and B have the highest number of datapoints')\n",
    "\n",
    "df['Class'].value_counts().sort_index().plot(kind='bar', title='Number of data point per class',color='C1')\n",
    "plt.ylabel('Data Points')\n",
    "plt.xlabel('Classes')"
   ]
  },
  {
   "cell_type": "markdown",
   "metadata": {},
   "source": [
    "## Model Architecture"
   ]
  },
  {
   "cell_type": "markdown",
   "metadata": {},
   "source": [
    "The architecture of the deep LTSM model is a two hidden layer network with 160 neurons in the first hidden layer and 200 neurons in the second hidden layer. \n",
    "\n",
    "Fortunately, the authors provided us with their model which we can use as inspiration to start off our search!\n",
    "\n",
    "The model .config() can be commented out for more information on the exact settings. For example, we can find out which dropout rate the authors used."
   ]
  },
  {
   "cell_type": "code",
   "execution_count": 4,
   "metadata": {},
   "outputs": [
    {
     "name": "stderr",
     "output_type": "stream",
     "text": [
      "2022-04-05 16:04:41.580297: I tensorflow/core/platform/cpu_feature_guard.cc:151] This TensorFlow binary is optimized with oneAPI Deep Neural Network Library (oneDNN) to use the following CPU instructions in performance-critical operations:  AVX2 FMA\n",
      "To enable them in other operations, rebuild TensorFlow with the appropriate compiler flags.\n"
     ]
    },
    {
     "name": "stdout",
     "output_type": "stream",
     "text": [
      "Model: \"sequential\"\n",
      "_________________________________________________________________\n",
      " Layer (type)                Output Shape              Param #   \n",
      "=================================================================\n",
      " lstm_3 (LSTM)               (None, None, 160)         116480    \n",
      "                                                                 \n",
      " batch_normalization_3 (Batc  (None, None, 160)        640       \n",
      " hNormalization)                                                 \n",
      "                                                                 \n",
      " dropout_3 (Dropout)         (None, None, 160)         0         \n",
      "                                                                 \n",
      " lstm_4 (LSTM)               (None, 120)               134880    \n",
      "                                                                 \n",
      " batch_normalization_4 (Batc  (None, 120)              480       \n",
      " hNormalization)                                                 \n",
      "                                                                 \n",
      " dropout_4 (Dropout)         (None, 120)               0         \n",
      "                                                                 \n",
      " dense_2 (Dense)             (None, 4)                 484       \n",
      "                                                                 \n",
      "=================================================================\n",
      "Total params: 252,964\n",
      "Trainable params: 252,404\n",
      "Non-trainable params: 560\n",
      "_________________________________________________________________\n"
     ]
    }
   ],
   "source": [
    "author_model = load_model('Model_clean_binary_cross_ICTAI_vehicle2_1')\n",
    "author_model.summary()"
   ]
  },
  {
   "cell_type": "code",
   "execution_count": 5,
   "metadata": {},
   "outputs": [],
   "source": [
    "# comment out this line to obtain model setup\n",
    "# author_model.get_config()"
   ]
  },
  {
   "cell_type": "markdown",
   "metadata": {},
   "source": [
    "## Fitting Data"
   ]
  },
  {
   "cell_type": "markdown",
   "metadata": {},
   "source": [
    "The original idea was to use the criteria mentioned on Brightspace however, the code didn't fully run therefore we created our own model so we could run it. Next to this, we will also apply a hyperparameter check and ablation study."
   ]
  },
  {
   "cell_type": "markdown",
   "metadata": {},
   "source": [
    "### Preprocessing"
   ]
  },
  {
   "cell_type": "code",
   "execution_count": 6,
   "metadata": {},
   "outputs": [],
   "source": [
    "# prepare features and classes\n",
    "X, y = pre_process_encoder(df)"
   ]
  },
  {
   "cell_type": "code",
   "execution_count": 7,
   "metadata": {},
   "outputs": [],
   "source": [
    "# partition the data with windows and assign it to train or test\n",
    "X_train, y_train, X_test,y_test = rnn_dimension(X,y)"
   ]
  },
  {
   "cell_type": "code",
   "execution_count": 8,
   "metadata": {},
   "outputs": [],
   "source": [
    "# normalize the data (very important)\n",
    "X_train_scaled = normalizing(X_train)\n",
    "X_test_scaled = normalizing(X_test)"
   ]
  },
  {
   "cell_type": "markdown",
   "metadata": {},
   "source": [
    "### Hyperparameter\n",
    "Right now, the overall context of the data is pretty clear. It's time to start building models and fitting it to the data. \n",
    "\n",
    "The build_model() function is used to do hyperparameter checking. We'll also use keras tuner to automatically search for the best model."
   ]
  },
  {
   "cell_type": "code",
   "execution_count": 9,
   "metadata": {},
   "outputs": [
    {
     "name": "stderr",
     "output_type": "stream",
     "text": [
      "/var/folders/gn/zs8gg_z13yl9cprztlvpc9gc0000gq/T/ipykernel_53589/4279768721.py:4: DeprecationWarning: `import kerastuner` is deprecated, please use `import keras_tuner`.\n",
      "  from kerastuner.engine.hyperparameters import HyperParameters\n"
     ]
    }
   ],
   "source": [
    "# import keras packages\n",
    "from keras.layers import Dense, Dropout, LSTM, Activation, Flatten\n",
    "from keras_tuner.tuners import RandomSearch\n",
    "from kerastuner.engine.hyperparameters import HyperParameters\n",
    "\n",
    "# import other packages\n",
    "\n",
    "# build_model is a function that is defined underneath here right?\n",
    "# import build_model \n",
    "import pathlib\n",
    "from keras import callbacks\n"
   ]
  },
  {
   "cell_type": "code",
   "execution_count": 10,
   "metadata": {},
   "outputs": [],
   "source": [
    "# create validation set for hyperparameter checking\n",
    "X_val, X_test, y_val, y_test = train_test_split(X_test_scaled, y_test, test_size=0.7, random_state=1)"
   ]
  },
  {
   "cell_type": "code",
   "execution_count": 11,
   "metadata": {},
   "outputs": [],
   "source": [
    "# instantiate hyperparameter object\n",
    "# this will be passed to the build_model() function\n",
    "hp = HyperParameters()"
   ]
  },
  {
   "cell_type": "code",
   "execution_count": 12,
   "metadata": {},
   "outputs": [],
   "source": [
    "# build model\n",
    "def build_model(hp):\n",
    "    \"\"\" \n",
    "    Build model for dynamic hyper parameter training.\n",
    "    input: hp \"object\" (HyperParameters() from kerastuner.engine.hyperparameters)\n",
    "    \"\"\"\n",
    "    \n",
    "    # Create sequential model\n",
    "    model = Sequential()\n",
    "\n",
    "    # HyperParameters\n",
    "    activations = hp.Choice(\"activation\", [\"relu\", \"tanh\"])\n",
    "    dropouts    = hp.Float(\"dropout\", min_value=0.3, max_value=0.6, step=0.05)\n",
    "    optimizers  = hp.Choice(\"optimizer\", [\"adam\", \"sgd\"])\n",
    "    units       = hp.Int(\"units\", min_value=140, max_value=220, step=10)\n",
    "\n",
    "    # first LSTM layer\n",
    "    model.add(LSTM(\n",
    "        units=units, \n",
    "        input_dim=X_train.shape[2], \n",
    "        activation=activations, \n",
    "        return_sequences=True))\n",
    "\n",
    "    # intermediate layers\n",
    "    model.add(layers.BatchNormalization())\n",
    "    model.add(layers.Dropout(dropouts))\n",
    "\n",
    "    # 2nd LSTM layer\n",
    "    model.add(LSTM(\n",
    "        units=units, \n",
    "        input_shape=(X_train.shape[1],X_train.shape[2]), \n",
    "        activation= activations, \n",
    "        return_sequences=False))\n",
    "\n",
    "    # intermediate layers\n",
    "    model.add(layers.BatchNormalization())\n",
    "    model.add(layers.Dropout(dropouts))\n",
    "\n",
    "    # output layer\n",
    "    model.add(Dense(y_train.shape[1], activation='softmax'))\n",
    "\n",
    "    # compile model\n",
    "    model.compile(loss='categorical_crossentropy', optimizer=optimizers, metrics=['accuracy'])\n",
    "\n",
    "    return model"
   ]
  },
  {
   "cell_type": "code",
   "execution_count": null,
   "metadata": {},
   "outputs": [],
   "source": [
    "weight_history = []\n",
    "bias_history = []\n",
    "class MyCallback(callbacks.Callback):\n",
    "    def on_batch_end(self, batch, logs):\n",
    "        weight, bias = model.get_weights()\n",
    "        B = bias[0]\n",
    "        W = weight[0][0]\n",
    "        weight_history.append(W)\n",
    "        bias_history.append(B)\n",
    "callback = MyCallback()"
   ]
  },
  {
   "cell_type": "code",
   "execution_count": 13,
   "metadata": {},
   "outputs": [],
   "source": [
    "csv_logger = callbacks.CSVLogger('training.csv', append=True)"
   ]
  },
  {
   "cell_type": "code",
   "execution_count": 34,
   "metadata": {},
   "outputs": [],
   "source": [
    "# specify path to save the search\n",
    "path_save = pathlib.Path(str(pathlib.Path().parent.resolve()) + \"/models\")\n",
    "\n",
    "# change project name\n",
    "project_name = \"search1\"\n",
    "\n",
    "max_trials = 3\n",
    "\n",
    "tuner = RandomSearch(\n",
    "    build_model,\n",
    "    objective = \"val_accuracy\",\n",
    "    max_trials = max_trials,\n",
    "    executions_per_trial = 1,\n",
    "    directory = path_save,\n",
    "    project_name= project_name,\n",
    "    overwrite = True\n",
    ")\n",
    "\n"
   ]
  },
  {
   "cell_type": "code",
   "execution_count": 35,
   "metadata": {},
   "outputs": [
    {
     "name": "stdout",
     "output_type": "stream",
     "text": [
      "Trial 3 Complete [00h 00m 17s]\n",
      "val_accuracy: 0.7966101765632629\n",
      "\n",
      "Best val_accuracy So Far: 0.7966101765632629\n",
      "Total elapsed time: 00h 00m 54s\n",
      "INFO:tensorflow:Oracle triggered exit\n"
     ]
    }
   ],
   "source": [
    "tuner.search(x=X_train_scaled, \n",
    "             y=y_train,\n",
    "             epochs=2, \n",
    "             batch_size=21, \n",
    "             validation_data=(X_val, y_val),\n",
    "            #  callbacks=[tf.keras.callbacks.TensorBoard(pathlib.Path(r'C:\\Users\\dicis\\Desktop\\models'))]\n",
    "             callbacks=[csv_logger]\n",
    "            )"
   ]
  },
  {
   "cell_type": "code",
   "execution_count": null,
   "metadata": {},
   "outputs": [],
   "source": [
    "tuner.get_best_models(num_models=5)"
   ]
  },
  {
   "cell_type": "code",
   "execution_count": 117,
   "metadata": {},
   "outputs": [],
   "source": [
    "# create trials_hp and trial_history for hyperparamater study\n",
    "trials_hp = pd.DataFrame()\n",
    "for trial_id in [name for name in os.listdir(\"./models/search\") if \"trial\" in name]:\n",
    "    trials_hp = trials_hp.append(pd.read_json('./models/search/' + str(trial_id) + '/trial.json')['hyperparameters'][1], ignore_index=True)\n",
    "\n",
    "trials_hp['trial_id'] = np.array(['trial_' + str(i) for i in range(trials_hp.shape[0])])\n",
    "\n",
    "trial_history = pd.read_csv('training.csv')\n",
    "n = 0\n",
    "first = True\n",
    "lst = []\n",
    "for i in trial_history['epoch']:\n",
    "    \n",
    "    if i == 0 and first == False:\n",
    "        n = n + 1\n",
    "\n",
    "    lst.append('trial_'+str(n))\n",
    "    first = False\n",
    "\n",
    "trial_history['trial_id'] = np.array(lst)\n",
    "\n",
    "# merge data\n",
    "trials_hp = pd.merge(trials_hp, trial_history[trial_history['epoch'] == trial_history['epoch'].max()], on='trial_id')\n",
    "        "
   ]
  },
  {
   "cell_type": "markdown",
   "metadata": {},
   "source": [
    "### Hyperparameter Study\n",
    "After performing the search, we obtain a dataset with the trail_id, its corresponding hyperparameters, and the validation accuracy.\n",
    "By performing data visualization and statistical analysis we can see which parameters are important for increasing the validation accuracy (the objective) and gain understanding in how sensitive the model is to the hyperparameters.\n",
    "\\\n",
    "\\\n",
    "The search has produced over 50 different models with three hyperparameters: activation, optimizer, and units. See 'trials_hp' to understand the data_set for analysis."
   ]
  },
  {
   "cell_type": "code",
   "execution_count": 118,
   "metadata": {},
   "outputs": [
    {
     "data": {
      "text/html": [
       "<div>\n",
       "<style scoped>\n",
       "    .dataframe tbody tr th:only-of-type {\n",
       "        vertical-align: middle;\n",
       "    }\n",
       "\n",
       "    .dataframe tbody tr th {\n",
       "        vertical-align: top;\n",
       "    }\n",
       "\n",
       "    .dataframe thead th {\n",
       "        text-align: right;\n",
       "    }\n",
       "</style>\n",
       "<table border=\"1\" class=\"dataframe\">\n",
       "  <thead>\n",
       "    <tr style=\"text-align: right;\">\n",
       "      <th></th>\n",
       "      <th>activation</th>\n",
       "      <th>optimizer</th>\n",
       "      <th>units</th>\n",
       "      <th>trial_id</th>\n",
       "      <th>epoch</th>\n",
       "      <th>accuracy</th>\n",
       "      <th>loss</th>\n",
       "      <th>val_accuracy</th>\n",
       "      <th>val_loss</th>\n",
       "    </tr>\n",
       "  </thead>\n",
       "  <tbody>\n",
       "    <tr>\n",
       "      <th>0</th>\n",
       "      <td>tanh</td>\n",
       "      <td>adam</td>\n",
       "      <td>185.0</td>\n",
       "      <td>trial_0</td>\n",
       "      <td>6</td>\n",
       "      <td>0.888989</td>\n",
       "      <td>0.331696</td>\n",
       "      <td>0.871940</td>\n",
       "      <td>0.376307</td>\n",
       "    </tr>\n",
       "    <tr>\n",
       "      <th>1</th>\n",
       "      <td>relu</td>\n",
       "      <td>adam</td>\n",
       "      <td>145.0</td>\n",
       "      <td>trial_1</td>\n",
       "      <td>6</td>\n",
       "      <td>0.846399</td>\n",
       "      <td>0.426909</td>\n",
       "      <td>0.898305</td>\n",
       "      <td>0.292728</td>\n",
       "    </tr>\n",
       "    <tr>\n",
       "      <th>2</th>\n",
       "      <td>relu</td>\n",
       "      <td>adam</td>\n",
       "      <td>205.0</td>\n",
       "      <td>trial_2</td>\n",
       "      <td>6</td>\n",
       "      <td>0.830441</td>\n",
       "      <td>0.453778</td>\n",
       "      <td>0.919021</td>\n",
       "      <td>0.216400</td>\n",
       "    </tr>\n",
       "    <tr>\n",
       "      <th>3</th>\n",
       "      <td>relu</td>\n",
       "      <td>sgd</td>\n",
       "      <td>170.0</td>\n",
       "      <td>trial_3</td>\n",
       "      <td>6</td>\n",
       "      <td>0.815879</td>\n",
       "      <td>0.507743</td>\n",
       "      <td>0.903955</td>\n",
       "      <td>0.252902</td>\n",
       "    </tr>\n",
       "    <tr>\n",
       "      <th>4</th>\n",
       "      <td>tanh</td>\n",
       "      <td>sgd</td>\n",
       "      <td>205.0</td>\n",
       "      <td>trial_4</td>\n",
       "      <td>6</td>\n",
       "      <td>0.881608</td>\n",
       "      <td>0.359867</td>\n",
       "      <td>0.907721</td>\n",
       "      <td>0.296064</td>\n",
       "    </tr>\n",
       "  </tbody>\n",
       "</table>\n",
       "</div>"
      ],
      "text/plain": [
       "  activation optimizer  units trial_id  epoch  accuracy      loss  \\\n",
       "0       tanh      adam  185.0  trial_0      6  0.888989  0.331696   \n",
       "1       relu      adam  145.0  trial_1      6  0.846399  0.426909   \n",
       "2       relu      adam  205.0  trial_2      6  0.830441  0.453778   \n",
       "3       relu       sgd  170.0  trial_3      6  0.815879  0.507743   \n",
       "4       tanh       sgd  205.0  trial_4      6  0.881608  0.359867   \n",
       "\n",
       "   val_accuracy  val_loss  \n",
       "0      0.871940  0.376307  \n",
       "1      0.898305  0.292728  \n",
       "2      0.919021  0.216400  \n",
       "3      0.903955  0.252902  \n",
       "4      0.907721  0.296064  "
      ]
     },
     "execution_count": 118,
     "metadata": {},
     "output_type": "execute_result"
    }
   ],
   "source": [
    "trials_hp.head(5)"
   ]
  },
  {
   "cell_type": "markdown",
   "metadata": {},
   "source": [
    "Lets see how the number of models are distributed"
   ]
  },
  {
   "cell_type": "code",
   "execution_count": 121,
   "metadata": {},
   "outputs": [
    {
     "data": {
      "image/png": "[encoded data removed]",
      "text/plain": [
       "<Figure size 720x288 with 1 Axes>"
      ]
     },
     "metadata": {},
     "output_type": "display_data"
    }
   ],
   "source": [
    "plt.figure()\n",
    "trials_hp[['activation', 'optimizer']].value_counts().plot(kind='bar', title='Number of data points per model', figsize=(10,4), colormap='jet')\n",
    "plt.xlabel('optimizer activation combination')\n",
    "plt.ylabel('counts')\n",
    "plt.show()"
   ]
  },
  {
   "cell_type": "markdown",
   "metadata": {},
   "source": [
    "Lets plot the data with respect to the median accuracy, number of units, and also classify the points based on optimizer and activation function. \\\n",
    "In general, models using sgd & tanh appear to work better. However, this does not necessarily mean that the search will find the best model using this combination"
   ]
  },
  {
   "cell_type": "code",
   "execution_count": 123,
   "metadata": {},
   "outputs": [
    {
     "data": {
      "text/plain": [
       "<Figure size 432x288 with 0 Axes>"
      ]
     },
     "metadata": {},
     "output_type": "display_data"
    },
    {
     "data": {
      "image/png": "[encoded data removed]",
      "text/plain": [
       "<Figure size 720x432 with 1 Axes>"
      ]
     },
     "metadata": {},
     "output_type": "display_data"
    }
   ],
   "source": [
    "plt.figure()\n",
    "trials_hp.groupby(['optimizer', 'activation'])[['accuracy']].median().plot(kind='bar', title='Accuracy', figsize=(10,6), colormap='jet')\n",
    "plt.xlabel('optimizer activation combination')\n",
    "plt.ylabel('Median Accuracy')\n",
    "plt.show()"
   ]
  },
  {
   "cell_type": "markdown",
   "metadata": {},
   "source": [
    "Let's dive deeper in the different models.\n",
    "\n",
    "The three parameters and objective value can all be visualized in one plot. Each point represent one trained model with the search. By carefuly analyzing the plot, \\\n",
    "we see that the relu activation functions either perform very bad or very good compared to the rest of the data. Another interesting insight is the fact that there is \\\n",
    "no strict correlation between the number of units and the validation accuracy. A model can still perform well on this data regardless of the number of units."
   ]
  },
  {
   "cell_type": "code",
   "execution_count": 124,
   "metadata": {},
   "outputs": [
    {
     "name": "stdout",
     "output_type": "stream",
     "text": [
      "relatively weak negative correlation\n"
     ]
    },
    {
     "data": {
      "text/html": [
       "<div>\n",
       "<style scoped>\n",
       "    .dataframe tbody tr th:only-of-type {\n",
       "        vertical-align: middle;\n",
       "    }\n",
       "\n",
       "    .dataframe tbody tr th {\n",
       "        vertical-align: top;\n",
       "    }\n",
       "\n",
       "    .dataframe thead th {\n",
       "        text-align: right;\n",
       "    }\n",
       "</style>\n",
       "<table border=\"1\" class=\"dataframe\">\n",
       "  <thead>\n",
       "    <tr style=\"text-align: right;\">\n",
       "      <th></th>\n",
       "      <th>units</th>\n",
       "      <th>val_accuracy</th>\n",
       "    </tr>\n",
       "  </thead>\n",
       "  <tbody>\n",
       "    <tr>\n",
       "      <th>units</th>\n",
       "      <td>1.000000</td>\n",
       "      <td>-0.030584</td>\n",
       "    </tr>\n",
       "    <tr>\n",
       "      <th>val_accuracy</th>\n",
       "      <td>-0.030584</td>\n",
       "      <td>1.000000</td>\n",
       "    </tr>\n",
       "  </tbody>\n",
       "</table>\n",
       "</div>"
      ],
      "text/plain": [
       "                 units  val_accuracy\n",
       "units         1.000000     -0.030584\n",
       "val_accuracy -0.030584      1.000000"
      ]
     },
     "execution_count": 124,
     "metadata": {},
     "output_type": "execute_result"
    }
   ],
   "source": [
    "# correlation\n",
    "print('relatively weak negative correlation')\n",
    "trials_hp[['units', 'val_accuracy']].corr()"
   ]
  },
  {
   "cell_type": "code",
   "execution_count": 126,
   "metadata": {},
   "outputs": [
    {
     "data": {
      "application/vnd.plotly.v1+json": {
       "config": {
        "plotlyServerURL": "https://plot.ly"
       },
       "data": [
        {
         "hovertemplate": "activation=tanh<br>optimizer=adam<br>units=%{x}<br>val_accuracy=%{y}<extra></extra>",
         "legendgroup": "tanh, adam",
         "marker": {
          "color": "#636efa",
          "symbol": "circle"
         },
         "mode": "markers",
         "name": "tanh, adam",
         "orientation": "v",
         "showlegend": true,
         "type": "scatter",
         "x": [
          185,
          200,
          240,
          170,
          160,
          130,
          140,
          180,
          165
         ],
         "xaxis": "x",
         "y": [
          0.8719397187232971,
          0.9284369349479676,
          0.8700565099716187,
          0.9077212810516356,
          0.9246704578399658,
          0.9171375036239624,
          0.9020715355873108,
          0.9152542352676392,
          0.9114877581596376
         ],
         "yaxis": "y"
        },
        {
         "hovertemplate": "activation=tanh<br>optimizer=sgd<br>units=%{x}<br>val_accuracy=%{y}<extra></extra>",
         "legendgroup": "tanh, sgd",
         "marker": {
          "color": "#636efa",
          "symbol": "diamond"
         },
         "mode": "markers",
         "name": "tanh, sgd",
         "orientation": "v",
         "showlegend": true,
         "type": "scatter",
         "x": [
          205,
          180,
          235,
          155,
          145,
          175,
          135,
          210,
          245,
          125,
          190,
          140,
          215
         ],
         "xaxis": "x",
         "y": [
          0.9077212810516356,
          0.9001883268356323,
          0.8832391500473022,
          0.9190207123756408,
          0.930320143699646,
          0.9020715355873108,
          0.9001883268356323,
          0.903954803943634,
          0.9340866208076476,
          0.920903980731964,
          0.909604549407959,
          0.930320143699646,
          0.9265536665916444
         ],
         "yaxis": "y"
        },
        {
         "hovertemplate": "activation=relu<br>optimizer=adam<br>units=%{x}<br>val_accuracy=%{y}<extra></extra>",
         "legendgroup": "relu, adam",
         "marker": {
          "color": "#EF553B",
          "symbol": "circle"
         },
         "mode": "markers",
         "name": "relu, adam",
         "orientation": "v",
         "showlegend": true,
         "type": "scatter",
         "x": [
          145,
          205,
          210,
          180,
          225,
          155,
          135,
          220,
          130,
          240,
          165,
          235,
          170,
          125
         ],
         "xaxis": "x",
         "y": [
          0.8983050584793091,
          0.9190207123756408,
          0.9190207123756408,
          0.8644067645072937,
          0.9435028433799744,
          0.8775894641876221,
          0.8644067645072937,
          0.9020715355873108,
          0.9246704578399658,
          0.935969889163971,
          0.9171375036239624,
          0.9114877581596376,
          0.9322034120559692,
          0.9284369349479676
         ],
         "yaxis": "y"
        },
        {
         "hovertemplate": "activation=relu<br>optimizer=sgd<br>units=%{x}<br>val_accuracy=%{y}<extra></extra>",
         "legendgroup": "relu, sgd",
         "marker": {
          "color": "#EF553B",
          "symbol": "diamond"
         },
         "mode": "markers",
         "name": "relu, sgd",
         "orientation": "v",
         "showlegend": true,
         "type": "scatter",
         "x": [
          170,
          210,
          200,
          160,
          125,
          185,
          245,
          190,
          230,
          225,
          130,
          205,
          150,
          195
         ],
         "xaxis": "x",
         "y": [
          0.903954803943634,
          0.9133710265159608,
          0.8700565099716187,
          0.9246704578399658,
          0.947269320487976,
          0.8851224184036255,
          0.930320143699646,
          0.9020715355873108,
          0.920903980731964,
          0.8832391500473022,
          0.9020715355873108,
          0.9397363662719728,
          0.9133710265159608,
          0.8945385813713074
         ],
         "yaxis": "y"
        }
       ],
       "layout": {
        "legend": {
         "title": {
          "text": "activation, optimizer"
         },
         "tracegroupgap": 0
        },
        "margin": {
         "t": 60
        },
        "template": {
         "data": {
          "bar": [
           {
            "error_x": {
             "color": "#2a3f5f"
            },
            "error_y": {
             "color": "#2a3f5f"
            },
            "marker": {
             "line": {
              "color": "#E5ECF6",
              "width": 0.5
             }
            },
            "type": "bar"
           }
          ],
          "barpolar": [
           {
            "marker": {
             "line": {
              "color": "#E5ECF6",
              "width": 0.5
             }
            },
            "type": "barpolar"
           }
          ],
          "carpet": [
           {
            "aaxis": {
             "endlinecolor": "#2a3f5f",
             "gridcolor": "white",
             "linecolor": "white",
             "minorgridcolor": "white",
             "startlinecolor": "#2a3f5f"
            },
            "baxis": {
             "endlinecolor": "#2a3f5f",
             "gridcolor": "white",
             "linecolor": "white",
             "minorgridcolor": "white",
             "startlinecolor": "#2a3f5f"
            },
            "type": "carpet"
           }
          ],
          "choropleth": [
           {
            "colorbar": {
             "outlinewidth": 0,
             "ticks": ""
            },
            "type": "choropleth"
           }
          ],
          "contour": [
           {
            "colorbar": {
             "outlinewidth": 0,
             "ticks": ""
            },
            "colorscale": [
             [
              0,
              "#0d0887"
             ],
             [
              0.1111111111111111,
              "#46039f"
             ],
             [
              0.2222222222222222,
              "#7201a8"
             ],
             [
              0.3333333333333333,
              "#9c179e"
             ],
             [
              0.4444444444444444,
              "#bd3786"
             ],
             [
              0.5555555555555556,
              "#d8576b"
             ],
             [
              0.6666666666666666,
              "#ed7953"
             ],
             [
              0.7777777777777778,
              "#fb9f3a"
             ],
             [
              0.8888888888888888,
              "#fdca26"
             ],
             [
              1,
              "#f0f921"
             ]
            ],
            "type": "contour"
           }
          ],
          "contourcarpet": [
           {
            "colorbar": {
             "outlinewidth": 0,
             "ticks": ""
            },
            "type": "contourcarpet"
           }
          ],
          "heatmap": [
           {
            "colorbar": {
             "outlinewidth": 0,
             "ticks": ""
            },
            "colorscale": [
             [
              0,
              "#0d0887"
             ],
             [
              0.1111111111111111,
              "#46039f"
             ],
             [
              0.2222222222222222,
              "#7201a8"
             ],
             [
              0.3333333333333333,
              "#9c179e"
             ],
             [
              0.4444444444444444,
              "#bd3786"
             ],
             [
              0.5555555555555556,
              "#d8576b"
             ],
             [
              0.6666666666666666,
              "#ed7953"
             ],
             [
              0.7777777777777778,
              "#fb9f3a"
             ],
             [
              0.8888888888888888,
              "#fdca26"
             ],
             [
              1,
              "#f0f921"
             ]
            ],
            "type": "heatmap"
           }
          ],
          "heatmapgl": [
           {
            "colorbar": {
             "outlinewidth": 0,
             "ticks": ""
            },
            "colorscale": [
             [
              0,
              "#0d0887"
             ],
             [
              0.1111111111111111,
              "#46039f"
             ],
             [
              0.2222222222222222,
              "#7201a8"
             ],
             [
              0.3333333333333333,
              "#9c179e"
             ],
             [
              0.4444444444444444,
              "#bd3786"
             ],
             [
              0.5555555555555556,
              "#d8576b"
             ],
             [
              0.6666666666666666,
              "#ed7953"
             ],
             [
              0.7777777777777778,
              "#fb9f3a"
             ],
             [
              0.8888888888888888,
              "#fdca26"
             ],
             [
              1,
              "#f0f921"
             ]
            ],
            "type": "heatmapgl"
           }
          ],
          "histogram": [
           {
            "marker": {
             "colorbar": {
              "outlinewidth": 0,
              "ticks": ""
             }
            },
            "type": "histogram"
           }
          ],
          "histogram2d": [
           {
            "colorbar": {
             "outlinewidth": 0,
             "ticks": ""
            },
            "colorscale": [
             [
              0,
              "#0d0887"
             ],
             [
              0.1111111111111111,
              "#46039f"
             ],
             [
              0.2222222222222222,
              "#7201a8"
             ],
             [
              0.3333333333333333,
              "#9c179e"
             ],
             [
              0.4444444444444444,
              "#bd3786"
             ],
             [
              0.5555555555555556,
              "#d8576b"
             ],
             [
              0.6666666666666666,
              "#ed7953"
             ],
             [
              0.7777777777777778,
              "#fb9f3a"
             ],
             [
              0.8888888888888888,
              "#fdca26"
             ],
             [
              1,
              "#f0f921"
             ]
            ],
            "type": "histogram2d"
           }
          ],
          "histogram2dcontour": [
           {
            "colorbar": {
             "outlinewidth": 0,
             "ticks": ""
            },
            "colorscale": [
             [
              0,
              "#0d0887"
             ],
             [
              0.1111111111111111,
              "#46039f"
             ],
             [
              0.2222222222222222,
              "#7201a8"
             ],
             [
              0.3333333333333333,
              "#9c179e"
             ],
             [
              0.4444444444444444,
              "#bd3786"
             ],
             [
              0.5555555555555556,
              "#d8576b"
             ],
             [
              0.6666666666666666,
              "#ed7953"
             ],
             [
              0.7777777777777778,
              "#fb9f3a"
             ],
             [
              0.8888888888888888,
              "#fdca26"
             ],
             [
              1,
              "#f0f921"
             ]
            ],
            "type": "histogram2dcontour"
           }
          ],
          "mesh3d": [
           {
            "colorbar": {
             "outlinewidth": 0,
             "ticks": ""
            },
            "type": "mesh3d"
           }
          ],
          "parcoords": [
           {
            "line": {
             "colorbar": {
              "outlinewidth": 0,
              "ticks": ""
             }
            },
            "type": "parcoords"
           }
          ],
          "pie": [
           {
            "automargin": true,
            "type": "pie"
           }
          ],
          "scatter": [
           {
            "marker": {
             "colorbar": {
              "outlinewidth": 0,
              "ticks": ""
             }
            },
            "type": "scatter"
           }
          ],
          "scatter3d": [
           {
            "line": {
             "colorbar": {
              "outlinewidth": 0,
              "ticks": ""
             }
            },
            "marker": {
             "colorbar": {
              "outlinewidth": 0,
              "ticks": ""
             }
            },
            "type": "scatter3d"
           }
          ],
          "scattercarpet": [
           {
            "marker": {
             "colorbar": {
              "outlinewidth": 0,
              "ticks": ""
             }
            },
            "type": "scattercarpet"
           }
          ],
          "scattergeo": [
           {
            "marker": {
             "colorbar": {
              "outlinewidth": 0,
              "ticks": ""
             }
            },
            "type": "scattergeo"
           }
          ],
          "scattergl": [
           {
            "marker": {
             "colorbar": {
              "outlinewidth": 0,
              "ticks": ""
             }
            },
            "type": "scattergl"
           }
          ],
          "scattermapbox": [
           {
            "marker": {
             "colorbar": {
              "outlinewidth": 0,
              "ticks": ""
             }
            },
            "type": "scattermapbox"
           }
          ],
          "scatterpolar": [
           {
            "marker": {
             "colorbar": {
              "outlinewidth": 0,
              "ticks": ""
             }
            },
            "type": "scatterpolar"
           }
          ],
          "scatterpolargl": [
           {
            "marker": {
             "colorbar": {
              "outlinewidth": 0,
              "ticks": ""
             }
            },
            "type": "scatterpolargl"
           }
          ],
          "scatterternary": [
           {
            "marker": {
             "colorbar": {
              "outlinewidth": 0,
              "ticks": ""
             }
            },
            "type": "scatterternary"
           }
          ],
          "surface": [
           {
            "colorbar": {
             "outlinewidth": 0,
             "ticks": ""
            },
            "colorscale": [
             [
              0,
              "#0d0887"
             ],
             [
              0.1111111111111111,
              "#46039f"
             ],
             [
              0.2222222222222222,
              "#7201a8"
             ],
             [
              0.3333333333333333,
              "#9c179e"
             ],
             [
              0.4444444444444444,
              "#bd3786"
             ],
             [
              0.5555555555555556,
              "#d8576b"
             ],
             [
              0.6666666666666666,
              "#ed7953"
             ],
             [
              0.7777777777777778,
              "#fb9f3a"
             ],
             [
              0.8888888888888888,
              "#fdca26"
             ],
             [
              1,
              "#f0f921"
             ]
            ],
            "type": "surface"
           }
          ],
          "table": [
           {
            "cells": {
             "fill": {
              "color": "#EBF0F8"
             },
             "line": {
              "color": "white"
             }
            },
            "header": {
             "fill": {
              "color": "#C8D4E3"
             },
             "line": {
              "color": "white"
             }
            },
            "type": "table"
           }
          ]
         },
         "layout": {
          "annotationdefaults": {
           "arrowcolor": "#2a3f5f",
           "arrowhead": 0,
           "arrowwidth": 1
          },
          "autotypenumbers": "strict",
          "coloraxis": {
           "colorbar": {
            "outlinewidth": 0,
            "ticks": ""
           }
          },
          "colorscale": {
           "diverging": [
            [
             0,
             "#8e0152"
            ],
            [
             0.1,
             "#c51b7d"
            ],
            [
             0.2,
             "#de77ae"
            ],
            [
             0.3,
             "#f1b6da"
            ],
            [
             0.4,
             "#fde0ef"
            ],
            [
             0.5,
             "#f7f7f7"
            ],
            [
             0.6,
             "#e6f5d0"
            ],
            [
             0.7,
             "#b8e186"
            ],
            [
             0.8,
             "#7fbc41"
            ],
            [
             0.9,
             "#4d9221"
            ],
            [
             1,
             "#276419"
            ]
           ],
           "sequential": [
            [
             0,
             "#0d0887"
            ],
            [
             0.1111111111111111,
             "#46039f"
            ],
            [
             0.2222222222222222,
             "#7201a8"
            ],
            [
             0.3333333333333333,
             "#9c179e"
            ],
            [
             0.4444444444444444,
             "#bd3786"
            ],
            [
             0.5555555555555556,
             "#d8576b"
            ],
            [
             0.6666666666666666,
             "#ed7953"
            ],
            [
             0.7777777777777778,
             "#fb9f3a"
            ],
            [
             0.8888888888888888,
             "#fdca26"
            ],
            [
             1,
             "#f0f921"
            ]
           ],
           "sequentialminus": [
            [
             0,
             "#0d0887"
            ],
            [
             0.1111111111111111,
             "#46039f"
            ],
            [
             0.2222222222222222,
             "#7201a8"
            ],
            [
             0.3333333333333333,
             "#9c179e"
            ],
            [
             0.4444444444444444,
             "#bd3786"
            ],
            [
             0.5555555555555556,
             "#d8576b"
            ],
            [
             0.6666666666666666,
             "#ed7953"
            ],
            [
             0.7777777777777778,
             "#fb9f3a"
            ],
            [
             0.8888888888888888,
             "#fdca26"
            ],
            [
             1,
             "#f0f921"
            ]
           ]
          },
          "colorway": [
           "#636efa",
           "#EF553B",
           "#00cc96",
           "#ab63fa",
           "#FFA15A",
           "#19d3f3",
           "#FF6692",
           "#B6E880",
           "#FF97FF",
           "#FECB52"
          ],
          "font": {
           "color": "#2a3f5f"
          },
          "geo": {
           "bgcolor": "white",
           "lakecolor": "white",
           "landcolor": "#E5ECF6",
           "showlakes": true,
           "showland": true,
           "subunitcolor": "white"
          },
          "hoverlabel": {
           "align": "left"
          },
          "hovermode": "closest",
          "mapbox": {
           "style": "light"
          },
          "paper_bgcolor": "white",
          "plot_bgcolor": "#E5ECF6",
          "polar": {
           "angularaxis": {
            "gridcolor": "white",
            "linecolor": "white",
            "ticks": ""
           },
           "bgcolor": "#E5ECF6",
           "radialaxis": {
            "gridcolor": "white",
            "linecolor": "white",
            "ticks": ""
           }
          },
          "scene": {
           "xaxis": {
            "backgroundcolor": "#E5ECF6",
            "gridcolor": "white",
            "gridwidth": 2,
            "linecolor": "white",
            "showbackground": true,
            "ticks": "",
            "zerolinecolor": "white"
           },
           "yaxis": {
            "backgroundcolor": "#E5ECF6",
            "gridcolor": "white",
            "gridwidth": 2,
            "linecolor": "white",
            "showbackground": true,
            "ticks": "",
            "zerolinecolor": "white"
           },
           "zaxis": {
            "backgroundcolor": "#E5ECF6",
            "gridcolor": "white",
            "gridwidth": 2,
            "linecolor": "white",
            "showbackground": true,
            "ticks": "",
            "zerolinecolor": "white"
           }
          },
          "shapedefaults": {
           "line": {
            "color": "#2a3f5f"
           }
          },
          "ternary": {
           "aaxis": {
            "gridcolor": "white",
            "linecolor": "white",
            "ticks": ""
           },
           "baxis": {
            "gridcolor": "white",
            "linecolor": "white",
            "ticks": ""
           },
           "bgcolor": "#E5ECF6",
           "caxis": {
            "gridcolor": "white",
            "linecolor": "white",
            "ticks": ""
           }
          },
          "title": {
           "x": 0.05
          },
          "xaxis": {
           "automargin": true,
           "gridcolor": "white",
           "linecolor": "white",
           "ticks": "",
           "title": {
            "standoff": 15
           },
           "zerolinecolor": "white",
           "zerolinewidth": 2
          },
          "yaxis": {
           "automargin": true,
           "gridcolor": "white",
           "linecolor": "white",
           "ticks": "",
           "title": {
            "standoff": 15
           },
           "zerolinecolor": "white",
           "zerolinewidth": 2
          }
         }
        },
        "xaxis": {
         "anchor": "y",
         "domain": [
          0,
          1
         ],
         "title": {
          "text": "units"
         }
        },
        "yaxis": {
         "anchor": "x",
         "domain": [
          0,
          1
         ],
         "title": {
          "text": "val_accuracy"
         }
        }
       }
      }
     },
     "metadata": {},
     "output_type": "display_data"
    }
   ],
   "source": [
    "# pip install plotly\n",
    "import plotly.express as px\n",
    "fig = px.scatter(trials_hp, x='units', y='val_accuracy', color='activation', symbol='optimizer')\n",
    "fig.show()"
   ]
  },
  {
   "cell_type": "markdown",
   "metadata": {},
   "source": [
    "The models can also be compared based on the number of epochs. (this part still has to be finished)"
   ]
  },
  {
   "cell_type": "code",
   "execution_count": 127,
   "metadata": {},
   "outputs": [
    {
     "data": {
      "text/html": [
       "<div>\n",
       "<style scoped>\n",
       "    .dataframe tbody tr th:only-of-type {\n",
       "        vertical-align: middle;\n",
       "    }\n",
       "\n",
       "    .dataframe tbody tr th {\n",
       "        vertical-align: top;\n",
       "    }\n",
       "\n",
       "    .dataframe thead th {\n",
       "        text-align: right;\n",
       "    }\n",
       "</style>\n",
       "<table border=\"1\" class=\"dataframe\">\n",
       "  <thead>\n",
       "    <tr style=\"text-align: right;\">\n",
       "      <th></th>\n",
       "      <th>epoch</th>\n",
       "      <th>accuracy</th>\n",
       "      <th>loss</th>\n",
       "      <th>val_accuracy</th>\n",
       "      <th>val_loss</th>\n",
       "      <th>trial_id</th>\n",
       "      <th>activation</th>\n",
       "      <th>optimizer</th>\n",
       "      <th>units</th>\n",
       "    </tr>\n",
       "  </thead>\n",
       "  <tbody>\n",
       "    <tr>\n",
       "      <th>0</th>\n",
       "      <td>0</td>\n",
       "      <td>0.443048</td>\n",
       "      <td>1.756191</td>\n",
       "      <td>0.602637</td>\n",
       "      <td>1.243153</td>\n",
       "      <td>trial_0</td>\n",
       "      <td>tanh</td>\n",
       "      <td>adam</td>\n",
       "      <td>185.0</td>\n",
       "    </tr>\n",
       "    <tr>\n",
       "      <th>1</th>\n",
       "      <td>1</td>\n",
       "      <td>0.673349</td>\n",
       "      <td>0.920970</td>\n",
       "      <td>0.817326</td>\n",
       "      <td>0.673794</td>\n",
       "      <td>trial_0</td>\n",
       "      <td>tanh</td>\n",
       "      <td>adam</td>\n",
       "      <td>185.0</td>\n",
       "    </tr>\n",
       "    <tr>\n",
       "      <th>2</th>\n",
       "      <td>2</td>\n",
       "      <td>0.765809</td>\n",
       "      <td>0.668693</td>\n",
       "      <td>0.887006</td>\n",
       "      <td>0.438549</td>\n",
       "      <td>trial_0</td>\n",
       "      <td>tanh</td>\n",
       "      <td>adam</td>\n",
       "      <td>185.0</td>\n",
       "    </tr>\n",
       "    <tr>\n",
       "      <th>3</th>\n",
       "      <td>3</td>\n",
       "      <td>0.812986</td>\n",
       "      <td>0.531935</td>\n",
       "      <td>0.881356</td>\n",
       "      <td>0.382570</td>\n",
       "      <td>trial_0</td>\n",
       "      <td>tanh</td>\n",
       "      <td>adam</td>\n",
       "      <td>185.0</td>\n",
       "    </tr>\n",
       "    <tr>\n",
       "      <th>4</th>\n",
       "      <td>4</td>\n",
       "      <td>0.843607</td>\n",
       "      <td>0.460407</td>\n",
       "      <td>0.911488</td>\n",
       "      <td>0.307887</td>\n",
       "      <td>trial_0</td>\n",
       "      <td>tanh</td>\n",
       "      <td>adam</td>\n",
       "      <td>185.0</td>\n",
       "    </tr>\n",
       "    <tr>\n",
       "      <th>...</th>\n",
       "      <td>...</td>\n",
       "      <td>...</td>\n",
       "      <td>...</td>\n",
       "      <td>...</td>\n",
       "      <td>...</td>\n",
       "      <td>...</td>\n",
       "      <td>...</td>\n",
       "      <td>...</td>\n",
       "      <td>...</td>\n",
       "    </tr>\n",
       "    <tr>\n",
       "      <th>345</th>\n",
       "      <td>2</td>\n",
       "      <td>0.699980</td>\n",
       "      <td>0.805823</td>\n",
       "      <td>0.809793</td>\n",
       "      <td>0.605748</td>\n",
       "      <td>trial_49</td>\n",
       "      <td>tanh</td>\n",
       "      <td>sgd</td>\n",
       "      <td>215.0</td>\n",
       "    </tr>\n",
       "    <tr>\n",
       "      <th>346</th>\n",
       "      <td>3</td>\n",
       "      <td>0.757431</td>\n",
       "      <td>0.665559</td>\n",
       "      <td>0.858757</td>\n",
       "      <td>0.401038</td>\n",
       "      <td>trial_49</td>\n",
       "      <td>tanh</td>\n",
       "      <td>sgd</td>\n",
       "      <td>215.0</td>\n",
       "    </tr>\n",
       "    <tr>\n",
       "      <th>347</th>\n",
       "      <td>4</td>\n",
       "      <td>0.797826</td>\n",
       "      <td>0.558888</td>\n",
       "      <td>0.900188</td>\n",
       "      <td>0.337164</td>\n",
       "      <td>trial_49</td>\n",
       "      <td>tanh</td>\n",
       "      <td>sgd</td>\n",
       "      <td>215.0</td>\n",
       "    </tr>\n",
       "    <tr>\n",
       "      <th>348</th>\n",
       "      <td>5</td>\n",
       "      <td>0.823758</td>\n",
       "      <td>0.494412</td>\n",
       "      <td>0.911488</td>\n",
       "      <td>0.283255</td>\n",
       "      <td>trial_49</td>\n",
       "      <td>tanh</td>\n",
       "      <td>sgd</td>\n",
       "      <td>215.0</td>\n",
       "    </tr>\n",
       "    <tr>\n",
       "      <th>349</th>\n",
       "      <td>6</td>\n",
       "      <td>0.850090</td>\n",
       "      <td>0.425873</td>\n",
       "      <td>0.926554</td>\n",
       "      <td>0.220054</td>\n",
       "      <td>trial_49</td>\n",
       "      <td>tanh</td>\n",
       "      <td>sgd</td>\n",
       "      <td>215.0</td>\n",
       "    </tr>\n",
       "  </tbody>\n",
       "</table>\n",
       "<p>350 rows × 9 columns</p>\n",
       "</div>"
      ],
      "text/plain": [
       "     epoch  accuracy      loss  val_accuracy  val_loss  trial_id activation  \\\n",
       "0        0  0.443048  1.756191      0.602637  1.243153   trial_0       tanh   \n",
       "1        1  0.673349  0.920970      0.817326  0.673794   trial_0       tanh   \n",
       "2        2  0.765809  0.668693      0.887006  0.438549   trial_0       tanh   \n",
       "3        3  0.812986  0.531935      0.881356  0.382570   trial_0       tanh   \n",
       "4        4  0.843607  0.460407      0.911488  0.307887   trial_0       tanh   \n",
       "..     ...       ...       ...           ...       ...       ...        ...   \n",
       "345      2  0.699980  0.805823      0.809793  0.605748  trial_49       tanh   \n",
       "346      3  0.757431  0.665559      0.858757  0.401038  trial_49       tanh   \n",
       "347      4  0.797826  0.558888      0.900188  0.337164  trial_49       tanh   \n",
       "348      5  0.823758  0.494412      0.911488  0.283255  trial_49       tanh   \n",
       "349      6  0.850090  0.425873      0.926554  0.220054  trial_49       tanh   \n",
       "\n",
       "    optimizer  units  \n",
       "0        adam  185.0  \n",
       "1        adam  185.0  \n",
       "2        adam  185.0  \n",
       "3        adam  185.0  \n",
       "4        adam  185.0  \n",
       "..        ...    ...  \n",
       "345       sgd  215.0  \n",
       "346       sgd  215.0  \n",
       "347       sgd  215.0  \n",
       "348       sgd  215.0  \n",
       "349       sgd  215.0  \n",
       "\n",
       "[350 rows x 9 columns]"
      ]
     },
     "execution_count": 127,
     "metadata": {},
     "output_type": "execute_result"
    }
   ],
   "source": [
    "df = pd.merge(trial_history, trials_hp[['activation', 'optimizer', 'units', 'trial_id']], on='trial_id')\n",
    "df"
   ]
  },
  {
   "cell_type": "code",
   "execution_count": null,
   "metadata": {},
   "outputs": [],
   "source": []
  },
  {
   "cell_type": "code",
   "execution_count": null,
   "metadata": {},
   "outputs": [],
   "source": []
  },
  {
   "cell_type": "code",
   "execution_count": null,
   "metadata": {},
   "outputs": [],
   "source": [
    "a_model = tuner.get_best_models(num_models=5)[3]"
   ]
  },
  {
   "cell_type": "code",
   "execution_count": null,
   "metadata": {},
   "outputs": [],
   "source": [
    "best_model = tuner.get_best_models(num_models=1)[0]"
   ]
  },
  {
   "cell_type": "code",
   "execution_count": null,
   "metadata": {},
   "outputs": [],
   "source": [
    "best_model.fit(X_train_scaled, y_train, epochs=6, batch_size=21, shuffle=False)"
   ]
  },
  {
   "cell_type": "code",
   "execution_count": null,
   "metadata": {},
   "outputs": [],
   "source": [
    "import matplotlib.pyplot as plt\n",
    "from matplotlib.pyplot import figure\n",
    "\n",
    "epochs = np.arange(1, len(best_model.history.history['loss']) + 1)\n",
    "\n",
    "fig, (ax1, ax2) = plt.subplots(2, 1, figsize=(15, 8))\n",
    "fig.suptitle('Train scores')\n",
    "\n",
    "ax1.plot(epochs, best_model.history.history['loss'], 'o-')\n",
    "ax1.set_ylabel('train_loss')\n",
    "\n",
    "ax2.plot(epochs, best_model.history.history['accuracy'], '.-')\n",
    "ax2.set_xlabel('epochs')\n",
    "ax2.set_ylabel('accuracy')\n",
    "\n",
    "plt.show()"
   ]
  },
  {
   "cell_type": "code",
   "execution_count": null,
   "metadata": {},
   "outputs": [],
   "source": [
    "best_model.save('./best_model')"
   ]
  },
  {
   "cell_type": "code",
   "execution_count": null,
   "metadata": {},
   "outputs": [],
   "source": [
    "LSTM_model = load_model('./best_model')"
   ]
  },
  {
   "cell_type": "markdown",
   "metadata": {},
   "source": [
    "## Reproducing fig 9\n",
    "We are starting with reproducing figure 9, taken from the original paper:\n",
    "\n",
    "<img src=\"original_figure9.png\" alt=\"Graph showing 4 different classfiers' robustness to noise. LSTM is clearly the most robust\" style=\"width: 500px;\"/>\n",
    "\n",
    "To do this, we first need the 4 different models shown (LSTM, FCNN, DecisionTree, RandomForest) in the graph. We use the LSTM that we found through the hyper parameter tuning above. The design of the FCNN that was likely used for this graph can be found in the code provided by the original author. The DecisionTree and RandomForest can be imported straight from keras. "
   ]
  },
  {
   "cell_type": "markdown",
   "metadata": {},
   "source": [
    "To start, we prepare the data again. This is done to keep everythhing contained a bit, and not use data that was prepared in a different part of the code. We load the data, one hot encode the labels and create train/test sets. Lastly, we scale the training and testing inputs."
   ]
  },
  {
   "cell_type": "code",
   "execution_count": null,
   "metadata": {},
   "outputs": [],
   "source": [
    "# Get a clean copy of the data to make sure previous cells did not do something unexpected to the data\n",
    "# As in the original paper, these model will be trained on the data without 'windows' (ie group of consecutive data points)\n",
    "# This data will be marked as _nw (No Window) I do agree the names are getting a little long\n",
    "\n",
    "df = pd.read_csv('./Data/korea_vehicledata.csv')\n",
    "X_nw, y_nw = pre_process_encoder(df)\n",
    "\n",
    "encoder = LabelEncoder()\n",
    "encoder.fit(y_nw)\n",
    "y_ints = encoder.transform(y_nw)  # A, B, C, ... --> 1, 2, 3, ...\n",
    "y_dummy_nw = np_utils.to_categorical(y_ints)\n",
    "X_train_nw, X_test_nw, y_train_nw, y_test_nw =train_test_split(X_nw, y_dummy_nw, train_size=0.85)\n",
    "X_train_scaled_nw = normalizing_2d(X_train_nw)\n",
    "X_test_scaled_nw = normalizing_2d(X_test_nw)\n"
   ]
  },
  {
   "cell_type": "markdown",
   "metadata": {},
   "source": [
    "We import the layers we need (some were already imported but for me it is nice to be able to run just this part - hence I import them again).\n",
    "We also import some functions and classifiers from sklearn."
   ]
  },
  {
   "cell_type": "code",
   "execution_count": null,
   "metadata": {},
   "outputs": [],
   "source": [
    "from keras.layers import Flatten, Dense\n",
    "from sklearn.metrics import classification_report, confusion_matrix  \n",
    "from sklearn.tree import DecisionTreeClassifier\n",
    "from sklearn.ensemble import RandomForestClassifier"
   ]
  },
  {
   "cell_type": "markdown",
   "metadata": {},
   "source": [
    "We start by creating the FCNN, by adapting (but mainly copying) the code from the author and fitting it on the training data."
   ]
  },
  {
   "cell_type": "code",
   "execution_count": null,
   "metadata": {},
   "outputs": [],
   "source": [
    "FCNN_model = Sequential()\n",
    "# FCNN_model.add(Flatten())  # Flatten the input data so it can be passed through the dense layer\n",
    "FCNN_model.add(Dense(160, input_dim=X_train_scaled_nw.shape[1], activation='relu'))\n",
    "FCNN_model.add(layers.BatchNormalization())\n",
    "FCNN_model.add(layers.Dropout(0.5))\n",
    "FCNN_model.add(Dense(120, activation='relu'))\n",
    "FCNN_model.add(layers.BatchNormalization())\n",
    "FCNN_model.add(Dense(y_test_nw.shape[1], activation='softmax'))\n",
    "# FCNN_model.add(Dense(1,activation='sigmoid'))\n",
    "# FCNN_model.compile(loss='binary_crossentropy', optimizer='adam', metrics=['accuracy'])\n",
    "FCNN_model.compile(loss='categorical_crossentropy', optimizer='adam', metrics=['accuracy'])\n",
    "os.environ[\"CUDA_VISIBLE_DEVICES\"] = \"0\"\n",
    "with tf.device('/GPU:0'):\n",
    "    FCNN_history = FCNN_model.fit(X_train_scaled_nw, y_train_nw, epochs=10,batch_size=100, shuffle=True)"
   ]
  },
  {
   "cell_type": "markdown",
   "metadata": {},
   "source": [
    "We also create and fit the DecisionTree and RandomForest"
   ]
  },
  {
   "cell_type": "code",
   "execution_count": null,
   "metadata": {},
   "outputs": [],
   "source": [
    "DT_model = DecisionTreeClassifier()\n",
    "DT_model.fit(X_train_scaled_nw, y_train_nw)\n",
    "\n",
    "RF_model = RandomForestClassifier(n_estimators=20)  # original paper uses 20 estimators\n",
    "RF_model.fit(X_train_scaled_nw, y_train_nw)\n",
    "\n"
   ]
  },
  {
   "cell_type": "markdown",
   "metadata": {},
   "source": [
    "We now have the four models, but the LSTM and FCNN are not very well trained yet. Their accuracy is around 90% while the paper is closer to 100%. To fix this, we let them train for a bit longer. I suggest not to use this and just load the model:)"
   ]
  },
  {
   "cell_type": "code",
   "execution_count": null,
   "metadata": {},
   "outputs": [],
   "source": [
    "using_saved_model = False\n",
    "\n",
    "if using_saved_model:\n",
    "    FCNN_model_ = load_model('./FCNN_model_reproduce')\n",
    "    LSTM_model = load_model('./LSTM_model_reproduce')\n",
    "else:  # fit the models\n",
    "    with tf.device('/GPU:0'):\n",
    "        FCNN_history = FCNN_model.fit(X_train_scaled_nw, y_train_nw, epochs=150,batch_size=100, shuffle=True)\n",
    "        FCNN_model.save('./FCNN_model_reproduce')\n",
    "        # Make sure to train LSTM on 'windowed' data\n",
    "        LSTM_history = LSTM_model.fit(X_train_scaled, y_train, epochs=150, batch_size=21, shuffle=False)\n",
    "        LSTM_model.save('./LSTM_model_reproduce')\n",
    "\n",
    "    "
   ]
  },
  {
   "cell_type": "code",
   "execution_count": null,
   "metadata": {},
   "outputs": [],
   "source": []
  }
 ],
 "metadata": {
  "interpreter": {
   "hash": "aee8b7b246df8f9039afb4144a1f6fd8d2ca17a180786b69acc140d282b71a49"
  },
  "kernelspec": {
   "display_name": "Python 3.9.5 64-bit",
   "language": "python",
   "name": "python3"
  },
  "language_info": {
   "codemirror_mode": {
    "name": "ipython",
    "version": 3
   },
   "file_extension": ".py",
   "mimetype": "text/x-python",
   "name": "python",
   "nbconvert_exporter": "python",
   "pygments_lexer": "ipython3",
   "version": "3.9.5"
  },
  "orig_nbformat": 4
 },
 "nbformat": 4,
 "nbformat_minor": 2
}
