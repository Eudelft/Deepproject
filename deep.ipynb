{
 "cells": [
  {
   "cell_type": "markdown",
   "metadata": {},
   "source": [
    "# Reproduction for \"Driver Identiﬁcation Based on Vehicle Telematics Data using LSTM-Recurrent Neural Network\""
   ]
  },
  {
   "cell_type": "markdown",
   "metadata": {},
   "source": [
    "Authors:  \n",
    "Daniel Cisneros Acevedo (4657349)  \n",
    "Emre Ünlü (5404290)  \n",
    "Stijn Waltmann (4548035) "
   ]
  },
  {
   "cell_type": "markdown",
   "metadata": {},
   "source": [
    "The goal of this blog is to reproduce the paper [Driver Identification Based on Vehicle Telematics Data using LSTM-Recurrent Neural Network](https://arxiv.org/abs/1911.08030). This paper uses vehicle telematics data (OBD-II) with machine learning tools to classify the driving style of a driver. The proposed model is a Long-Short Term Memory (LSTMs), this is an RNN architectures variant. For this reproduction, our group is assigned to reproduce Figures 9 & 10. These figures compare the accuracy of LTSMs against FCNN, Decision tree, and Random Forest models by inducing increasing levels of noise on the test data. We have chosen to do a mix of reproducing a small portion of the code and using some of the criteria given on Brightspace."
   ]
  },
  {
   "cell_type": "markdown",
   "metadata": {},
   "source": [
    "<figure>\n",
    "  <img src=\"original_figure9.png\" ref=\"Figure 9\" width=\"400\">\n",
    "  <img src=\"original_figure10.png\" ref=\"Figure 9\" width=\"480\">\n",
    "  <figcaption>Figure 9 & 10</figcaption>\n",
    "</figure>"
   ]
  },
  {
   "cell_type": "markdown",
   "metadata": {},
   "source": [
    "## Inspecting the code"
   ]
  },
  {
   "cell_type": "markdown",
   "metadata": {},
   "source": [
    "First look at the code it seems a bit messy, with multiple imports and multiple functions defined throughout the code. When running the code we seem to have trouble with X_test_5. Also, the author of the paper mentioned the code could have some issues because it was developed in a different setting.\n",
    "\n",
    "We have copied several functions from the author's main code to our code main_functions.py and added docstrings for further clarification"
   ]
  },
  {
   "cell_type": "markdown",
   "metadata": {},
   "source": [
    "## Data"
   ]
  },
  {
   "cell_type": "markdown",
   "metadata": {},
   "source": [
    "There are three datasets from which one is of importance to us. That is the security driving dataset, collected by KIA Motors Corporation car in an uncontrolled environment. This is the only relevant dataset for this reproduction because figures 9 & 10 only contain these data points."
   ]
  },
  {
   "cell_type": "code",
   "execution_count": 32,
   "metadata": {},
   "outputs": [
    {
     "name": "stdout",
     "output_type": "stream",
     "text": [
      "The autoreload extension is already loaded. To reload it, use:\n",
      "  %reload_ext autoreload\n"
     ]
    }
   ],
   "source": [
    "%load_ext autoreload\n",
    "%autoreload 2\n",
    "\n",
    "# import packages\n",
    "import os\n",
    "import pandas as pd\n",
    "import numpy as np\n",
    "import matplotlib as mpl\n",
    "import matplotlib.pyplot as plt\n",
    "# mpl.style.use('ggplot')\n",
    "mpl.style.use('seaborn-paper')\n",
    "import os\n",
    "import tensorflow as tf\n",
    "from tensorflow.python.client import device_lib\n",
    "from keras.models import load_model\n",
    "from sklearn.preprocessing import StandardScaler\n",
    "\n",
    "# import functions from main.py\n",
    "from main_functions import *"
   ]
  },
  {
   "cell_type": "markdown",
   "metadata": {},
   "source": [
    "The data from the Security Driving Dataset is shown below below. There are 94380 datapoints and 54 columns. The \"Class\" represents the driver_id.\n",
    "It's not a bad idea to look at the data distribution of the classes as class imbalance may affect model performance. Note, there are a total of 10 classes, or drivers in this case."
   ]
  },
  {
   "cell_type": "code",
   "execution_count": 2,
   "metadata": {},
   "outputs": [
    {
     "data": {
      "text/html": [
       "<div>\n",
       "<style scoped>\n",
       "    .dataframe tbody tr th:only-of-type {\n",
       "        vertical-align: middle;\n",
       "    }\n",
       "\n",
       "    .dataframe tbody tr th {\n",
       "        vertical-align: top;\n",
       "    }\n",
       "\n",
       "    .dataframe thead th {\n",
       "        text-align: right;\n",
       "    }\n",
       "</style>\n",
       "<table border=\"1\" class=\"dataframe\">\n",
       "  <thead>\n",
       "    <tr style=\"text-align: right;\">\n",
       "      <th></th>\n",
       "      <th>Time(s)</th>\n",
       "      <th>Class</th>\n",
       "      <th>PathOrder</th>\n",
       "      <th>Fuel_consumption</th>\n",
       "      <th>Accelerator_Pedal_value</th>\n",
       "      <th>Throttle_position_signal</th>\n",
       "      <th>Short_Term_Fuel_Trim_Bank1</th>\n",
       "      <th>Intake_air_pressure</th>\n",
       "      <th>Filtered_Accelerator_Pedal_value</th>\n",
       "      <th>Absolute_throttle_position</th>\n",
       "      <th>...</th>\n",
       "      <th>Converter_clutch</th>\n",
       "      <th>Gear_Selection</th>\n",
       "      <th>Vehicle_speed</th>\n",
       "      <th>Acceleration_speed_-_Longitudinal</th>\n",
       "      <th>Indication_of_brake_switch_ON/OFF</th>\n",
       "      <th>Master_cylinder_pressure</th>\n",
       "      <th>Calculated_road_gradient</th>\n",
       "      <th>Acceleration_speed_-_Lateral</th>\n",
       "      <th>Steering_wheel_speed</th>\n",
       "      <th>Steering_wheel_angle</th>\n",
       "    </tr>\n",
       "  </thead>\n",
       "  <tbody>\n",
       "    <tr>\n",
       "      <th>0</th>\n",
       "      <td>1</td>\n",
       "      <td>A</td>\n",
       "      <td>1</td>\n",
       "      <td>268.8</td>\n",
       "      <td>0.0</td>\n",
       "      <td>5.2</td>\n",
       "      <td>0.0</td>\n",
       "      <td>33</td>\n",
       "      <td>0</td>\n",
       "      <td>13.3</td>\n",
       "      <td>...</td>\n",
       "      <td>0</td>\n",
       "      <td>0</td>\n",
       "      <td>0</td>\n",
       "      <td>-8.5</td>\n",
       "      <td>1</td>\n",
       "      <td>325.5</td>\n",
       "      <td>0.0</td>\n",
       "      <td>-8.8</td>\n",
       "      <td>0</td>\n",
       "      <td>-3.4</td>\n",
       "    </tr>\n",
       "    <tr>\n",
       "      <th>1</th>\n",
       "      <td>2</td>\n",
       "      <td>A</td>\n",
       "      <td>1</td>\n",
       "      <td>243.2</td>\n",
       "      <td>0.0</td>\n",
       "      <td>6.1</td>\n",
       "      <td>0.0</td>\n",
       "      <td>40</td>\n",
       "      <td>0</td>\n",
       "      <td>13.7</td>\n",
       "      <td>...</td>\n",
       "      <td>0</td>\n",
       "      <td>0</td>\n",
       "      <td>0</td>\n",
       "      <td>0.1</td>\n",
       "      <td>1</td>\n",
       "      <td>0.9</td>\n",
       "      <td>0.0</td>\n",
       "      <td>-0.2</td>\n",
       "      <td>0</td>\n",
       "      <td>-3.6</td>\n",
       "    </tr>\n",
       "    <tr>\n",
       "      <th>2</th>\n",
       "      <td>3</td>\n",
       "      <td>A</td>\n",
       "      <td>1</td>\n",
       "      <td>217.6</td>\n",
       "      <td>0.0</td>\n",
       "      <td>5.2</td>\n",
       "      <td>0.0</td>\n",
       "      <td>41</td>\n",
       "      <td>0</td>\n",
       "      <td>13.7</td>\n",
       "      <td>...</td>\n",
       "      <td>0</td>\n",
       "      <td>0</td>\n",
       "      <td>0</td>\n",
       "      <td>0.1</td>\n",
       "      <td>1</td>\n",
       "      <td>0.9</td>\n",
       "      <td>0.0</td>\n",
       "      <td>-0.2</td>\n",
       "      <td>0</td>\n",
       "      <td>-3.6</td>\n",
       "    </tr>\n",
       "    <tr>\n",
       "      <th>3</th>\n",
       "      <td>4</td>\n",
       "      <td>A</td>\n",
       "      <td>1</td>\n",
       "      <td>204.8</td>\n",
       "      <td>0.0</td>\n",
       "      <td>4.7</td>\n",
       "      <td>0.0</td>\n",
       "      <td>38</td>\n",
       "      <td>0</td>\n",
       "      <td>13.3</td>\n",
       "      <td>...</td>\n",
       "      <td>0</td>\n",
       "      <td>0</td>\n",
       "      <td>0</td>\n",
       "      <td>0.1</td>\n",
       "      <td>1</td>\n",
       "      <td>0.9</td>\n",
       "      <td>0.0</td>\n",
       "      <td>-0.2</td>\n",
       "      <td>0</td>\n",
       "      <td>-3.6</td>\n",
       "    </tr>\n",
       "    <tr>\n",
       "      <th>4</th>\n",
       "      <td>5</td>\n",
       "      <td>A</td>\n",
       "      <td>1</td>\n",
       "      <td>217.6</td>\n",
       "      <td>0.0</td>\n",
       "      <td>5.7</td>\n",
       "      <td>0.0</td>\n",
       "      <td>40</td>\n",
       "      <td>0</td>\n",
       "      <td>13.7</td>\n",
       "      <td>...</td>\n",
       "      <td>0</td>\n",
       "      <td>0</td>\n",
       "      <td>0</td>\n",
       "      <td>0.1</td>\n",
       "      <td>1</td>\n",
       "      <td>0.9</td>\n",
       "      <td>0.0</td>\n",
       "      <td>-0.2</td>\n",
       "      <td>0</td>\n",
       "      <td>-3.5</td>\n",
       "    </tr>\n",
       "    <tr>\n",
       "      <th>...</th>\n",
       "      <td>...</td>\n",
       "      <td>...</td>\n",
       "      <td>...</td>\n",
       "      <td>...</td>\n",
       "      <td>...</td>\n",
       "      <td>...</td>\n",
       "      <td>...</td>\n",
       "      <td>...</td>\n",
       "      <td>...</td>\n",
       "      <td>...</td>\n",
       "      <td>...</td>\n",
       "      <td>...</td>\n",
       "      <td>...</td>\n",
       "      <td>...</td>\n",
       "      <td>...</td>\n",
       "      <td>...</td>\n",
       "      <td>...</td>\n",
       "      <td>...</td>\n",
       "      <td>...</td>\n",
       "      <td>...</td>\n",
       "      <td>...</td>\n",
       "    </tr>\n",
       "    <tr>\n",
       "      <th>94375</th>\n",
       "      <td>2564</td>\n",
       "      <td>D</td>\n",
       "      <td>2</td>\n",
       "      <td>345.6</td>\n",
       "      <td>0.0</td>\n",
       "      <td>6.6</td>\n",
       "      <td>7.0</td>\n",
       "      <td>0</td>\n",
       "      <td>0</td>\n",
       "      <td>14.5</td>\n",
       "      <td>...</td>\n",
       "      <td>0</td>\n",
       "      <td>7</td>\n",
       "      <td>0</td>\n",
       "      <td>-0.2</td>\n",
       "      <td>2</td>\n",
       "      <td>2.3</td>\n",
       "      <td>0.0</td>\n",
       "      <td>0.0</td>\n",
       "      <td>0</td>\n",
       "      <td>-13.2</td>\n",
       "    </tr>\n",
       "    <tr>\n",
       "      <th>94376</th>\n",
       "      <td>2565</td>\n",
       "      <td>D</td>\n",
       "      <td>2</td>\n",
       "      <td>345.6</td>\n",
       "      <td>0.0</td>\n",
       "      <td>6.6</td>\n",
       "      <td>7.0</td>\n",
       "      <td>0</td>\n",
       "      <td>0</td>\n",
       "      <td>14.5</td>\n",
       "      <td>...</td>\n",
       "      <td>0</td>\n",
       "      <td>7</td>\n",
       "      <td>0</td>\n",
       "      <td>0.1</td>\n",
       "      <td>2</td>\n",
       "      <td>8.7</td>\n",
       "      <td>0.0</td>\n",
       "      <td>-0.1</td>\n",
       "      <td>0</td>\n",
       "      <td>-13.0</td>\n",
       "    </tr>\n",
       "    <tr>\n",
       "      <th>94377</th>\n",
       "      <td>2566</td>\n",
       "      <td>D</td>\n",
       "      <td>2</td>\n",
       "      <td>345.6</td>\n",
       "      <td>0.0</td>\n",
       "      <td>6.6</td>\n",
       "      <td>7.0</td>\n",
       "      <td>0</td>\n",
       "      <td>0</td>\n",
       "      <td>14.5</td>\n",
       "      <td>...</td>\n",
       "      <td>0</td>\n",
       "      <td>0</td>\n",
       "      <td>0</td>\n",
       "      <td>-0.2</td>\n",
       "      <td>2</td>\n",
       "      <td>12.6</td>\n",
       "      <td>0.0</td>\n",
       "      <td>0.0</td>\n",
       "      <td>0</td>\n",
       "      <td>-13.2</td>\n",
       "    </tr>\n",
       "    <tr>\n",
       "      <th>94378</th>\n",
       "      <td>2567</td>\n",
       "      <td>D</td>\n",
       "      <td>2</td>\n",
       "      <td>332.8</td>\n",
       "      <td>0.0</td>\n",
       "      <td>5.7</td>\n",
       "      <td>6.3</td>\n",
       "      <td>0</td>\n",
       "      <td>0</td>\n",
       "      <td>14.1</td>\n",
       "      <td>...</td>\n",
       "      <td>0</td>\n",
       "      <td>0</td>\n",
       "      <td>0</td>\n",
       "      <td>-0.2</td>\n",
       "      <td>2</td>\n",
       "      <td>13.0</td>\n",
       "      <td>0.0</td>\n",
       "      <td>0.0</td>\n",
       "      <td>0</td>\n",
       "      <td>-13.3</td>\n",
       "    </tr>\n",
       "    <tr>\n",
       "      <th>94379</th>\n",
       "      <td>2568</td>\n",
       "      <td>D</td>\n",
       "      <td>2</td>\n",
       "      <td>281.6</td>\n",
       "      <td>0.0</td>\n",
       "      <td>5.2</td>\n",
       "      <td>5.5</td>\n",
       "      <td>0</td>\n",
       "      <td>0</td>\n",
       "      <td>13.7</td>\n",
       "      <td>...</td>\n",
       "      <td>0</td>\n",
       "      <td>0</td>\n",
       "      <td>0</td>\n",
       "      <td>-0.2</td>\n",
       "      <td>2</td>\n",
       "      <td>8.2</td>\n",
       "      <td>0.0</td>\n",
       "      <td>-0.1</td>\n",
       "      <td>0</td>\n",
       "      <td>-13.3</td>\n",
       "    </tr>\n",
       "  </tbody>\n",
       "</table>\n",
       "<p>94380 rows × 54 columns</p>\n",
       "</div>"
      ],
      "text/plain": [
       "       Time(s) Class  PathOrder  Fuel_consumption  Accelerator_Pedal_value  \\\n",
       "0            1     A          1             268.8                      0.0   \n",
       "1            2     A          1             243.2                      0.0   \n",
       "2            3     A          1             217.6                      0.0   \n",
       "3            4     A          1             204.8                      0.0   \n",
       "4            5     A          1             217.6                      0.0   \n",
       "...        ...   ...        ...               ...                      ...   \n",
       "94375     2564     D          2             345.6                      0.0   \n",
       "94376     2565     D          2             345.6                      0.0   \n",
       "94377     2566     D          2             345.6                      0.0   \n",
       "94378     2567     D          2             332.8                      0.0   \n",
       "94379     2568     D          2             281.6                      0.0   \n",
       "\n",
       "       Throttle_position_signal  Short_Term_Fuel_Trim_Bank1  \\\n",
       "0                           5.2                         0.0   \n",
       "1                           6.1                         0.0   \n",
       "2                           5.2                         0.0   \n",
       "3                           4.7                         0.0   \n",
       "4                           5.7                         0.0   \n",
       "...                         ...                         ...   \n",
       "94375                       6.6                         7.0   \n",
       "94376                       6.6                         7.0   \n",
       "94377                       6.6                         7.0   \n",
       "94378                       5.7                         6.3   \n",
       "94379                       5.2                         5.5   \n",
       "\n",
       "       Intake_air_pressure  Filtered_Accelerator_Pedal_value  \\\n",
       "0                       33                                 0   \n",
       "1                       40                                 0   \n",
       "2                       41                                 0   \n",
       "3                       38                                 0   \n",
       "4                       40                                 0   \n",
       "...                    ...                               ...   \n",
       "94375                    0                                 0   \n",
       "94376                    0                                 0   \n",
       "94377                    0                                 0   \n",
       "94378                    0                                 0   \n",
       "94379                    0                                 0   \n",
       "\n",
       "       Absolute_throttle_position  ...  Converter_clutch  Gear_Selection  \\\n",
       "0                            13.3  ...                 0               0   \n",
       "1                            13.7  ...                 0               0   \n",
       "2                            13.7  ...                 0               0   \n",
       "3                            13.3  ...                 0               0   \n",
       "4                            13.7  ...                 0               0   \n",
       "...                           ...  ...               ...             ...   \n",
       "94375                        14.5  ...                 0               7   \n",
       "94376                        14.5  ...                 0               7   \n",
       "94377                        14.5  ...                 0               0   \n",
       "94378                        14.1  ...                 0               0   \n",
       "94379                        13.7  ...                 0               0   \n",
       "\n",
       "       Vehicle_speed  Acceleration_speed_-_Longitudinal  \\\n",
       "0                  0                               -8.5   \n",
       "1                  0                                0.1   \n",
       "2                  0                                0.1   \n",
       "3                  0                                0.1   \n",
       "4                  0                                0.1   \n",
       "...              ...                                ...   \n",
       "94375              0                               -0.2   \n",
       "94376              0                                0.1   \n",
       "94377              0                               -0.2   \n",
       "94378              0                               -0.2   \n",
       "94379              0                               -0.2   \n",
       "\n",
       "       Indication_of_brake_switch_ON/OFF  Master_cylinder_pressure  \\\n",
       "0                                      1                     325.5   \n",
       "1                                      1                       0.9   \n",
       "2                                      1                       0.9   \n",
       "3                                      1                       0.9   \n",
       "4                                      1                       0.9   \n",
       "...                                  ...                       ...   \n",
       "94375                                  2                       2.3   \n",
       "94376                                  2                       8.7   \n",
       "94377                                  2                      12.6   \n",
       "94378                                  2                      13.0   \n",
       "94379                                  2                       8.2   \n",
       "\n",
       "       Calculated_road_gradient  Acceleration_speed_-_Lateral  \\\n",
       "0                           0.0                          -8.8   \n",
       "1                           0.0                          -0.2   \n",
       "2                           0.0                          -0.2   \n",
       "3                           0.0                          -0.2   \n",
       "4                           0.0                          -0.2   \n",
       "...                         ...                           ...   \n",
       "94375                       0.0                           0.0   \n",
       "94376                       0.0                          -0.1   \n",
       "94377                       0.0                           0.0   \n",
       "94378                       0.0                           0.0   \n",
       "94379                       0.0                          -0.1   \n",
       "\n",
       "       Steering_wheel_speed  Steering_wheel_angle  \n",
       "0                         0                  -3.4  \n",
       "1                         0                  -3.6  \n",
       "2                         0                  -3.6  \n",
       "3                         0                  -3.6  \n",
       "4                         0                  -3.5  \n",
       "...                     ...                   ...  \n",
       "94375                     0                 -13.2  \n",
       "94376                     0                 -13.0  \n",
       "94377                     0                 -13.2  \n",
       "94378                     0                 -13.3  \n",
       "94379                     0                 -13.3  \n",
       "\n",
       "[94380 rows x 54 columns]"
      ]
     },
     "execution_count": 2,
     "metadata": {},
     "output_type": "execute_result"
    }
   ],
   "source": [
    "# read data\n",
    "df = pd.read_csv('./Data/korea_vehicledata.csv')\n",
    "df"
   ]
  },
  {
   "cell_type": "code",
   "execution_count": 10,
   "metadata": {},
   "outputs": [
    {
     "data": {
      "text/plain": [
       "array(['A', 'D', 'B', 'C', 'I', 'J', 'H', 'G', 'F', 'E'], dtype=object)"
      ]
     },
     "execution_count": 10,
     "metadata": {},
     "output_type": "execute_result"
    }
   ],
   "source": [
    "df['Class'].unique()"
   ]
  },
  {
   "cell_type": "code",
   "execution_count": 3,
   "metadata": {},
   "outputs": [
    {
     "name": "stdout",
     "output_type": "stream",
     "text": [
      "Class D and B have the highest number of datapoints\n"
     ]
    },
    {
     "data": {
      "text/plain": [
       "Text(0.5, 0, 'Classes')"
      ]
     },
     "execution_count": 3,
     "metadata": {},
     "output_type": "execute_result"
    },
    {
     "data": {
      "image/png": "[encoded data removed]",
      "text/plain": [
       "<Figure size 432x288 with 1 Axes>"
      ]
     },
     "metadata": {},
     "output_type": "display_data"
    }
   ],
   "source": [
    "# data distribution per class\n",
    "\n",
    "print('Class D and B have the highest number of datapoints')\n",
    "\n",
    "df['Class'].value_counts().sort_index().plot(kind='bar', title='Number of data point per class',color='C1')\n",
    "plt.ylabel('Data Points')\n",
    "plt.xlabel('Classes')"
   ]
  },
  {
   "cell_type": "markdown",
   "metadata": {},
   "source": [
    "## Model Architecture"
   ]
  },
  {
   "cell_type": "markdown",
   "metadata": {},
   "source": [
    "The architecture of the deep LTSM model is a two hidden layer network with 160 neurons in the first hidden layer and 200 neurons in the second hidden layer. \n",
    "\n",
    "Fortunately, the authors provided us with their model which we can use as inspiration to start off our search!\n",
    "\n",
    "The model .config() can be commented out for more information on the exact settings. For example, we can find out which dropout rate the authors used."
   ]
  },
  {
   "cell_type": "code",
   "execution_count": 4,
   "metadata": {},
   "outputs": [
    {
     "name": "stderr",
     "output_type": "stream",
     "text": [
      "2022-04-06 09:05:44.926869: I tensorflow/core/platform/cpu_feature_guard.cc:151] This TensorFlow binary is optimized with oneAPI Deep Neural Network Library (oneDNN) to use the following CPU instructions in performance-critical operations:  AVX2 FMA\n",
      "To enable them in other operations, rebuild TensorFlow with the appropriate compiler flags.\n"
     ]
    },
    {
     "name": "stdout",
     "output_type": "stream",
     "text": [
      "Model: \"sequential\"\n",
      "_________________________________________________________________\n",
      " Layer (type)                Output Shape              Param #   \n",
      "=================================================================\n",
      " lstm_3 (LSTM)               (None, None, 160)         116480    \n",
      "                                                                 \n",
      " batch_normalization_3 (Batc  (None, None, 160)        640       \n",
      " hNormalization)                                                 \n",
      "                                                                 \n",
      " dropout_3 (Dropout)         (None, None, 160)         0         \n",
      "                                                                 \n",
      " lstm_4 (LSTM)               (None, 120)               134880    \n",
      "                                                                 \n",
      " batch_normalization_4 (Batc  (None, 120)              480       \n",
      " hNormalization)                                                 \n",
      "                                                                 \n",
      " dropout_4 (Dropout)         (None, 120)               0         \n",
      "                                                                 \n",
      " dense_2 (Dense)             (None, 4)                 484       \n",
      "                                                                 \n",
      "=================================================================\n",
      "Total params: 252,964\n",
      "Trainable params: 252,404\n",
      "Non-trainable params: 560\n",
      "_________________________________________________________________\n"
     ]
    }
   ],
   "source": [
    "author_model = load_model('Model_clean_binary_cross_ICTAI_vehicle2_1')\n",
    "author_model.summary()"
   ]
  },
  {
   "cell_type": "code",
   "execution_count": 5,
   "metadata": {},
   "outputs": [],
   "source": [
    "# comment out this line to obtain model setup\n",
    "# author_model.get_config()"
   ]
  },
  {
   "cell_type": "markdown",
   "metadata": {},
   "source": [
    "## Fitting Data"
   ]
  },
  {
   "cell_type": "markdown",
   "metadata": {},
   "source": [
    "The original idea was to use the criteria mentioned on Brightspace however, the code didn't fully run therefore we created our own model so we could run it. Next to this, we will also apply a hyperparameter check and ablation study."
   ]
  },
  {
   "cell_type": "markdown",
   "metadata": {},
   "source": [
    "### Preprocessing"
   ]
  },
  {
   "cell_type": "code",
   "execution_count": 15,
   "metadata": {},
   "outputs": [],
   "source": [
    "# prepare features and classes\n",
    "X, y = pre_process_encoder(df)"
   ]
  },
  {
   "cell_type": "code",
   "execution_count": 16,
   "metadata": {},
   "outputs": [],
   "source": [
    "# partition the data with windows and assign it to train or test\n",
    "X_train, y_train, X_test,y_test = rnn_dimension(X,y)"
   ]
  },
  {
   "cell_type": "code",
   "execution_count": 17,
   "metadata": {},
   "outputs": [],
   "source": [
    "# normalize the data (very important)\n",
    "X_train_scaled = normalizing(X_train)\n",
    "X_test_scaled = normalizing(X_test)"
   ]
  },
  {
   "cell_type": "markdown",
   "metadata": {},
   "source": [
    "### Hyperparameter\n",
    "Right now, the overall context of the data is pretty clear. It's time to start building models and fitting it to the data. \n",
    "\n",
    "The build_model() function is used to do hyperparameter checking. We'll also use keras tuner to automatically search for the best model."
   ]
  },
  {
   "cell_type": "code",
   "execution_count": 18,
   "metadata": {},
   "outputs": [],
   "source": [
    "# import keras packages\n",
    "from keras.layers import Dense, Dropout, LSTM, Activation, Flatten\n",
    "from keras_tuner.tuners import RandomSearch\n",
    "from kerastuner.engine.hyperparameters import HyperParameters\n",
    "\n",
    "# import other packages\n",
    "\n",
    "# build_model is a function that is defined underneath here right?\n",
    "# import build_model \n",
    "import pathlib\n",
    "from keras import callbacks\n"
   ]
  },
  {
   "cell_type": "code",
   "execution_count": 19,
   "metadata": {},
   "outputs": [],
   "source": [
    "# create validation set for hyperparameter checking\n",
    "X_val, X_test, y_val, y_test = train_test_split(X_test_scaled, y_test, test_size=0.7, random_state=1)"
   ]
  },
  {
   "cell_type": "code",
   "execution_count": 20,
   "metadata": {},
   "outputs": [],
   "source": [
    "# instantiate hyperparameter object\n",
    "# this will be passed to the build_model() function\n",
    "hp = HyperParameters()"
   ]
  },
  {
   "cell_type": "code",
   "execution_count": 21,
   "metadata": {},
   "outputs": [],
   "source": [
    "# build model\n",
    "def build_model(hp):\n",
    "    \"\"\" \n",
    "    Build model for dynamic hyper parameter training.\n",
    "    input: hp \"object\" (HyperParameters() from kerastuner.engine.hyperparameters)\n",
    "    \"\"\"\n",
    "    \n",
    "    # Create sequential model\n",
    "    model = Sequential()\n",
    "\n",
    "    # HyperParameters\n",
    "    activations = hp.Choice(\"activation\", [\"relu\", \"tanh\"])\n",
    "    # dropouts    = hp.Float(\"dropout\", min_value=0.3, max_value=0.6, step=0.05)\n",
    "    dropouts    = 0.5\n",
    "    optimizers  = hp.Choice(\"optimizer\", [\"adam\", \"sgd\"])\n",
    "    units       = hp.Int(\"units\", min_value=140, max_value=220, step=10)\n",
    "\n",
    "    # first LSTM layer\n",
    "    model.add(LSTM(\n",
    "        units=units, \n",
    "        input_dim=X_train.shape[2], \n",
    "        activation=activations, \n",
    "        return_sequences=True))\n",
    "\n",
    "    # intermediate layers\n",
    "    model.add(layers.BatchNormalization())\n",
    "    model.add(layers.Dropout(dropouts))\n",
    "\n",
    "    # 2nd LSTM layer\n",
    "    model.add(LSTM(\n",
    "        units=units, \n",
    "        input_shape=(X_train.shape[1],X_train.shape[2]), \n",
    "        activation= activations, \n",
    "        return_sequences=False))\n",
    "\n",
    "    # intermediate layers\n",
    "    model.add(layers.BatchNormalization())\n",
    "    model.add(layers.Dropout(dropouts))\n",
    "\n",
    "    # output layer\n",
    "    model.add(Dense(y_train.shape[1], activation='softmax'))\n",
    "\n",
    "    # compile model\n",
    "    model.compile(loss='categorical_crossentropy', optimizer=optimizers, metrics=['accuracy'])\n",
    "\n",
    "    return model"
   ]
  },
  {
   "cell_type": "code",
   "execution_count": 22,
   "metadata": {},
   "outputs": [],
   "source": [
    "# save data to training.csv during search\n",
    "csv_logger = callbacks.CSVLogger('training.csv', append=True)\n",
    "\n",
    "# specify path to save the search\n",
    "path_save = pathlib.Path(str(pathlib.Path().parent.resolve()) + \"/models\")\n",
    "\n",
    "# change project name\n",
    "project_name = \"search1\"\n",
    "\n",
    "# setup tuner\n",
    "max_trials = 50\n",
    "\n",
    "tuner = RandomSearch(\n",
    "    build_model,\n",
    "    objective = \"val_accuracy\",\n",
    "    max_trials = max_trials,\n",
    "    executions_per_trial = 1,\n",
    "    directory = path_save,\n",
    "    project_name= project_name,\n",
    "    overwrite = False\n",
    ")\n",
    "\n"
   ]
  },
  {
   "cell_type": "code",
   "execution_count": 35,
   "metadata": {},
   "outputs": [
    {
     "name": "stdout",
     "output_type": "stream",
     "text": [
      "Trial 3 Complete [00h 00m 17s]\n",
      "val_accuracy: 0.7966101765632629\n",
      "\n",
      "Best val_accuracy So Far: 0.7966101765632629\n",
      "Total elapsed time: 00h 00m 54s\n",
      "INFO:tensorflow:Oracle triggered exit\n"
     ]
    }
   ],
   "source": [
    "# execute (may take several minutes/hours)\n",
    "tuner.search(x=X_train_scaled, \n",
    "             y=y_train,\n",
    "             epochs=7, \n",
    "             batch_size=21, \n",
    "             validation_data=(X_val, y_val),\n",
    "            #  callbacks=[tf.keras.callbacks.TensorBoard(pathlib.Path(r'C:\\Users\\dicis\\Desktop\\models'))]\n",
    "             callbacks=[csv_logger]\n",
    "            )"
   ]
  },
  {
   "cell_type": "code",
   "execution_count": null,
   "metadata": {},
   "outputs": [],
   "source": [
    "tuner.get_best_models(num_models=5)"
   ]
  },
  {
   "cell_type": "markdown",
   "metadata": {},
   "source": [
    "### Hyperparameter Study\n",
    "After performing the search, we obtain a dataset with the trail_id, its corresponding hyperparameters, and the validation accuracy.\n",
    "By performing data visualization and statistical analysis we can see which parameters are important for increasing the validation accuracy (the objective) and gain understanding in how sensitive the model is to the hyperparameters.\n",
    "\n",
    "The search has produced over 50 different models with three hyperparameters: activation, optimizer, and units. See 'trials_hp' to understand the data_set for analysis."
   ]
  },
  {
   "cell_type": "code",
   "execution_count": 6,
   "metadata": {},
   "outputs": [],
   "source": [
    "# ----- read the data from ./models -----\n",
    "\n",
    "# create trials_hp and trial_history for hyperparamater study\n",
    "trials_hp = pd.DataFrame()\n",
    "for trial_id in [name for name in os.listdir(\"./models/search\") if \"trial\" in name]:\n",
    "    trials_hp = trials_hp.append(pd.read_json('./models/search/' + str(trial_id) + '/trial.json')['hyperparameters'][1], ignore_index=True)\n",
    "\n",
    "trials_hp['trial_id'] = np.array(['trial_' + str(i) for i in range(trials_hp.shape[0])])\n",
    "\n",
    "trial_history = pd.read_csv('training.csv')\n",
    "n = 0\n",
    "first = True\n",
    "lst = []\n",
    "for i in trial_history['epoch']:\n",
    "    \n",
    "    if i == 0 and first == False:\n",
    "        n = n + 1\n",
    "\n",
    "    lst.append('trial_'+str(n))\n",
    "    first = False\n",
    "\n",
    "trial_history['trial_id'] = np.array(lst)\n",
    "\n",
    "# merge data\n",
    "trials_hp = pd.merge(trials_hp, trial_history[trial_history['epoch'] == trial_history['epoch'].max()], on='trial_id')        "
   ]
  },
  {
   "cell_type": "code",
   "execution_count": 7,
   "metadata": {},
   "outputs": [
    {
     "data": {
      "text/html": [
       "<div>\n",
       "<style scoped>\n",
       "    .dataframe tbody tr th:only-of-type {\n",
       "        vertical-align: middle;\n",
       "    }\n",
       "\n",
       "    .dataframe tbody tr th {\n",
       "        vertical-align: top;\n",
       "    }\n",
       "\n",
       "    .dataframe thead th {\n",
       "        text-align: right;\n",
       "    }\n",
       "</style>\n",
       "<table border=\"1\" class=\"dataframe\">\n",
       "  <thead>\n",
       "    <tr style=\"text-align: right;\">\n",
       "      <th></th>\n",
       "      <th>activation</th>\n",
       "      <th>optimizer</th>\n",
       "      <th>units</th>\n",
       "      <th>trial_id</th>\n",
       "      <th>epoch</th>\n",
       "      <th>accuracy</th>\n",
       "      <th>loss</th>\n",
       "      <th>val_accuracy</th>\n",
       "      <th>val_loss</th>\n",
       "    </tr>\n",
       "  </thead>\n",
       "  <tbody>\n",
       "    <tr>\n",
       "      <th>0</th>\n",
       "      <td>tanh</td>\n",
       "      <td>adam</td>\n",
       "      <td>185.0</td>\n",
       "      <td>trial_0</td>\n",
       "      <td>6</td>\n",
       "      <td>0.888989</td>\n",
       "      <td>0.331696</td>\n",
       "      <td>0.871940</td>\n",
       "      <td>0.376307</td>\n",
       "    </tr>\n",
       "    <tr>\n",
       "      <th>1</th>\n",
       "      <td>relu</td>\n",
       "      <td>adam</td>\n",
       "      <td>145.0</td>\n",
       "      <td>trial_1</td>\n",
       "      <td>6</td>\n",
       "      <td>0.846399</td>\n",
       "      <td>0.426909</td>\n",
       "      <td>0.898305</td>\n",
       "      <td>0.292728</td>\n",
       "    </tr>\n",
       "    <tr>\n",
       "      <th>2</th>\n",
       "      <td>relu</td>\n",
       "      <td>adam</td>\n",
       "      <td>205.0</td>\n",
       "      <td>trial_2</td>\n",
       "      <td>6</td>\n",
       "      <td>0.830441</td>\n",
       "      <td>0.453778</td>\n",
       "      <td>0.919021</td>\n",
       "      <td>0.216400</td>\n",
       "    </tr>\n",
       "    <tr>\n",
       "      <th>3</th>\n",
       "      <td>relu</td>\n",
       "      <td>sgd</td>\n",
       "      <td>170.0</td>\n",
       "      <td>trial_3</td>\n",
       "      <td>6</td>\n",
       "      <td>0.815879</td>\n",
       "      <td>0.507743</td>\n",
       "      <td>0.903955</td>\n",
       "      <td>0.252902</td>\n",
       "    </tr>\n",
       "    <tr>\n",
       "      <th>4</th>\n",
       "      <td>tanh</td>\n",
       "      <td>sgd</td>\n",
       "      <td>205.0</td>\n",
       "      <td>trial_4</td>\n",
       "      <td>6</td>\n",
       "      <td>0.881608</td>\n",
       "      <td>0.359867</td>\n",
       "      <td>0.907721</td>\n",
       "      <td>0.296064</td>\n",
       "    </tr>\n",
       "  </tbody>\n",
       "</table>\n",
       "</div>"
      ],
      "text/plain": [
       "  activation optimizer  units trial_id  epoch  accuracy      loss  \\\n",
       "0       tanh      adam  185.0  trial_0      6  0.888989  0.331696   \n",
       "1       relu      adam  145.0  trial_1      6  0.846399  0.426909   \n",
       "2       relu      adam  205.0  trial_2      6  0.830441  0.453778   \n",
       "3       relu       sgd  170.0  trial_3      6  0.815879  0.507743   \n",
       "4       tanh       sgd  205.0  trial_4      6  0.881608  0.359867   \n",
       "\n",
       "   val_accuracy  val_loss  \n",
       "0      0.871940  0.376307  \n",
       "1      0.898305  0.292728  \n",
       "2      0.919021  0.216400  \n",
       "3      0.903955  0.252902  \n",
       "4      0.907721  0.296064  "
      ]
     },
     "execution_count": 7,
     "metadata": {},
     "output_type": "execute_result"
    }
   ],
   "source": [
    "trials_hp.head(5)"
   ]
  },
  {
   "cell_type": "markdown",
   "metadata": {},
   "source": [
    "Lets see how the number of models are distributed"
   ]
  },
  {
   "cell_type": "code",
   "execution_count": 94,
   "metadata": {},
   "outputs": [
    {
     "data": {
      "image/png": "[encoded data removed]",
      "text/plain": [
       "<Figure size 800x500 with 1 Axes>"
      ]
     },
     "metadata": {},
     "output_type": "display_data"
    }
   ],
   "source": [
    "mpl.style.use('seaborn-deep')\n",
    "\n",
    "fig, ax = plt.subplots(figsize=(8,5))\n",
    "\n",
    "trials_hp[['activation', 'optimizer']].value_counts().sort_index().plot(kind='bar', title='Number of data points per model', ax=ax)\n",
    "ax.set_axisbelow(True)\n",
    "ax.yaxis.grid(color='gray')\n",
    "plt.suptitle('')\n",
    "plt.title('')\n",
    "plt.xlabel('optimizer activation combination')\n",
    "plt.ylabel('counts')\n",
    "plt.show()"
   ]
  },
  {
   "cell_type": "markdown",
   "metadata": {},
   "source": [
    "Lets plot the data with respect to the median accuracy, number of units, and also classify the points based on optimizer and activation function. \\\n",
    "In general, models using sgd & tanh appear to work better. However, this does not necessarily mean that the search will find the best model using this combination"
   ]
  },
  {
   "cell_type": "code",
   "execution_count": 96,
   "metadata": {},
   "outputs": [
    {
     "data": {
      "image/png": "[encoded data removed]",
      "text/plain": [
       "<Figure size 800x600 with 1 Axes>"
      ]
     },
     "metadata": {},
     "output_type": "display_data"
    }
   ],
   "source": [
    "# mpl.style.use('seaborn-bright')\n",
    "\n",
    "fig, ax = plt.subplots(figsize=(8,6))\n",
    "trials_hp.boxplot(column=['val_accuracy'], by=['activation', 'optimizer'], ax=ax)\n",
    "plt.suptitle('')\n",
    "plt.title('')\n",
    "plt.xlabel('optimizer activation combination')\n",
    "plt.ylabel('Validation Accuracy')\n",
    "plt.show()"
   ]
  },
  {
   "cell_type": "markdown",
   "metadata": {},
   "source": [
    "Let's dive deeper in the different models.\n",
    "\n",
    "The three parameters and objective value can all be visualized in one plot. Each point represent one trained model with the search. By carefuly analyzing the plot, \n",
    "we see that the relu activation functions either perform very bad or very good compared to the rest of the data. Another interesting insight is the fact that there is \n",
    "no strict correlation between the number of units and the validation accuracy. A model can still perform well on this data regardless of the number of units."
   ]
  },
  {
   "cell_type": "code",
   "execution_count": 27,
   "metadata": {},
   "outputs": [
    {
     "name": "stdout",
     "output_type": "stream",
     "text": [
      "relatively weak negative correlation\n"
     ]
    },
    {
     "data": {
      "text/html": [
       "<div>\n",
       "<style scoped>\n",
       "    .dataframe tbody tr th:only-of-type {\n",
       "        vertical-align: middle;\n",
       "    }\n",
       "\n",
       "    .dataframe tbody tr th {\n",
       "        vertical-align: top;\n",
       "    }\n",
       "\n",
       "    .dataframe thead th {\n",
       "        text-align: right;\n",
       "    }\n",
       "</style>\n",
       "<table border=\"1\" class=\"dataframe\">\n",
       "  <thead>\n",
       "    <tr style=\"text-align: right;\">\n",
       "      <th></th>\n",
       "      <th>units</th>\n",
       "      <th>val_accuracy</th>\n",
       "    </tr>\n",
       "  </thead>\n",
       "  <tbody>\n",
       "    <tr>\n",
       "      <th>units</th>\n",
       "      <td>1.000000</td>\n",
       "      <td>-0.030584</td>\n",
       "    </tr>\n",
       "    <tr>\n",
       "      <th>val_accuracy</th>\n",
       "      <td>-0.030584</td>\n",
       "      <td>1.000000</td>\n",
       "    </tr>\n",
       "  </tbody>\n",
       "</table>\n",
       "</div>"
      ],
      "text/plain": [
       "                 units  val_accuracy\n",
       "units         1.000000     -0.030584\n",
       "val_accuracy -0.030584      1.000000"
      ]
     },
     "execution_count": 27,
     "metadata": {},
     "output_type": "execute_result"
    }
   ],
   "source": [
    "# correlation\n",
    "print('relatively weak negative correlation')\n",
    "trials_hp[['units', 'val_accuracy']].corr()"
   ]
  },
  {
   "cell_type": "code",
   "execution_count": 91,
   "metadata": {},
   "outputs": [
    {
     "data": {
      "application/vnd.plotly.v1+json": {
       "config": {
        "plotlyServerURL": "https://plot.ly"
       },
       "data": [
        {
         "hovertemplate": "activation=tanh<br>optimizer=adam<br>units=%{x}<br>val_accuracy=%{y}<extra></extra>",
         "legendgroup": "tanh, adam",
         "marker": {
          "color": "#636efa",
          "symbol": "circle"
         },
         "mode": "markers",
         "name": "tanh, adam",
         "orientation": "v",
         "showlegend": true,
         "type": "scatter",
         "x": [
          185,
          200,
          240,
          170,
          160,
          130,
          140,
          180,
          165
         ],
         "xaxis": "x",
         "y": [
          0.8719397187232971,
          0.9284369349479676,
          0.8700565099716187,
          0.9077212810516356,
          0.9246704578399658,
          0.9171375036239624,
          0.9020715355873108,
          0.9152542352676392,
          0.9114877581596376
         ],
         "yaxis": "y"
        },
        {
         "hovertemplate": "activation=tanh<br>optimizer=sgd<br>units=%{x}<br>val_accuracy=%{y}<extra></extra>",
         "legendgroup": "tanh, sgd",
         "marker": {
          "color": "#636efa",
          "symbol": "diamond"
         },
         "mode": "markers",
         "name": "tanh, sgd",
         "orientation": "v",
         "showlegend": true,
         "type": "scatter",
         "x": [
          205,
          180,
          235,
          155,
          145,
          175,
          135,
          210,
          245,
          125,
          190,
          140,
          215
         ],
         "xaxis": "x",
         "y": [
          0.9077212810516356,
          0.9001883268356323,
          0.8832391500473022,
          0.9190207123756408,
          0.930320143699646,
          0.9020715355873108,
          0.9001883268356323,
          0.903954803943634,
          0.9340866208076476,
          0.920903980731964,
          0.909604549407959,
          0.930320143699646,
          0.9265536665916444
         ],
         "yaxis": "y"
        },
        {
         "hovertemplate": "activation=relu<br>optimizer=adam<br>units=%{x}<br>val_accuracy=%{y}<extra></extra>",
         "legendgroup": "relu, adam",
         "marker": {
          "color": "#EF553B",
          "symbol": "circle"
         },
         "mode": "markers",
         "name": "relu, adam",
         "orientation": "v",
         "showlegend": true,
         "type": "scatter",
         "x": [
          145,
          205,
          210,
          180,
          225,
          155,
          135,
          220,
          130,
          240,
          165,
          235,
          170,
          125
         ],
         "xaxis": "x",
         "y": [
          0.8983050584793091,
          0.9190207123756408,
          0.9190207123756408,
          0.8644067645072937,
          0.9435028433799744,
          0.8775894641876221,
          0.8644067645072937,
          0.9020715355873108,
          0.9246704578399658,
          0.935969889163971,
          0.9171375036239624,
          0.9114877581596376,
          0.9322034120559692,
          0.9284369349479676
         ],
         "yaxis": "y"
        },
        {
         "hovertemplate": "activation=relu<br>optimizer=sgd<br>units=%{x}<br>val_accuracy=%{y}<extra></extra>",
         "legendgroup": "relu, sgd",
         "marker": {
          "color": "#EF553B",
          "symbol": "diamond"
         },
         "mode": "markers",
         "name": "relu, sgd",
         "orientation": "v",
         "showlegend": true,
         "type": "scatter",
         "x": [
          170,
          210,
          200,
          160,
          125,
          185,
          245,
          190,
          230,
          225,
          130,
          205,
          150,
          195
         ],
         "xaxis": "x",
         "y": [
          0.903954803943634,
          0.9133710265159608,
          0.8700565099716187,
          0.9246704578399658,
          0.947269320487976,
          0.8851224184036255,
          0.930320143699646,
          0.9020715355873108,
          0.920903980731964,
          0.8832391500473022,
          0.9020715355873108,
          0.9397363662719728,
          0.9133710265159608,
          0.8945385813713074
         ],
         "yaxis": "y"
        }
       ],
       "layout": {
        "legend": {
         "title": {
          "text": "activation, optimizer"
         },
         "tracegroupgap": 0
        },
        "margin": {
         "t": 60
        },
        "template": {
         "data": {
          "bar": [
           {
            "error_x": {
             "color": "#2a3f5f"
            },
            "error_y": {
             "color": "#2a3f5f"
            },
            "marker": {
             "line": {
              "color": "#E5ECF6",
              "width": 0.5
             }
            },
            "type": "bar"
           }
          ],
          "barpolar": [
           {
            "marker": {
             "line": {
              "color": "#E5ECF6",
              "width": 0.5
             }
            },
            "type": "barpolar"
           }
          ],
          "carpet": [
           {
            "aaxis": {
             "endlinecolor": "#2a3f5f",
             "gridcolor": "white",
             "linecolor": "white",
             "minorgridcolor": "white",
             "startlinecolor": "#2a3f5f"
            },
            "baxis": {
             "endlinecolor": "#2a3f5f",
             "gridcolor": "white",
             "linecolor": "white",
             "minorgridcolor": "white",
             "startlinecolor": "#2a3f5f"
            },
            "type": "carpet"
           }
          ],
          "choropleth": [
           {
            "colorbar": {
             "outlinewidth": 0,
             "ticks": ""
            },
            "type": "choropleth"
           }
          ],
          "contour": [
           {
            "colorbar": {
             "outlinewidth": 0,
             "ticks": ""
            },
            "colorscale": [
             [
              0,
              "#0d0887"
             ],
             [
              0.1111111111111111,
              "#46039f"
             ],
             [
              0.2222222222222222,
              "#7201a8"
             ],
             [
              0.3333333333333333,
              "#9c179e"
             ],
             [
              0.4444444444444444,
              "#bd3786"
             ],
             [
              0.5555555555555556,
              "#d8576b"
             ],
             [
              0.6666666666666666,
              "#ed7953"
             ],
             [
              0.7777777777777778,
              "#fb9f3a"
             ],
             [
              0.8888888888888888,
              "#fdca26"
             ],
             [
              1,
              "#f0f921"
             ]
            ],
            "type": "contour"
           }
          ],
          "contourcarpet": [
           {
            "colorbar": {
             "outlinewidth": 0,
             "ticks": ""
            },
            "type": "contourcarpet"
           }
          ],
          "heatmap": [
           {
            "colorbar": {
             "outlinewidth": 0,
             "ticks": ""
            },
            "colorscale": [
             [
              0,
              "#0d0887"
             ],
             [
              0.1111111111111111,
              "#46039f"
             ],
             [
              0.2222222222222222,
              "#7201a8"
             ],
             [
              0.3333333333333333,
              "#9c179e"
             ],
             [
              0.4444444444444444,
              "#bd3786"
             ],
             [
              0.5555555555555556,
              "#d8576b"
             ],
             [
              0.6666666666666666,
              "#ed7953"
             ],
             [
              0.7777777777777778,
              "#fb9f3a"
             ],
             [
              0.8888888888888888,
              "#fdca26"
             ],
             [
              1,
              "#f0f921"
             ]
            ],
            "type": "heatmap"
           }
          ],
          "heatmapgl": [
           {
            "colorbar": {
             "outlinewidth": 0,
             "ticks": ""
            },
            "colorscale": [
             [
              0,
              "#0d0887"
             ],
             [
              0.1111111111111111,
              "#46039f"
             ],
             [
              0.2222222222222222,
              "#7201a8"
             ],
             [
              0.3333333333333333,
              "#9c179e"
             ],
             [
              0.4444444444444444,
              "#bd3786"
             ],
             [
              0.5555555555555556,
              "#d8576b"
             ],
             [
              0.6666666666666666,
              "#ed7953"
             ],
             [
              0.7777777777777778,
              "#fb9f3a"
             ],
             [
              0.8888888888888888,
              "#fdca26"
             ],
             [
              1,
              "#f0f921"
             ]
            ],
            "type": "heatmapgl"
           }
          ],
          "histogram": [
           {
            "marker": {
             "colorbar": {
              "outlinewidth": 0,
              "ticks": ""
             }
            },
            "type": "histogram"
           }
          ],
          "histogram2d": [
           {
            "colorbar": {
             "outlinewidth": 0,
             "ticks": ""
            },
            "colorscale": [
             [
              0,
              "#0d0887"
             ],
             [
              0.1111111111111111,
              "#46039f"
             ],
             [
              0.2222222222222222,
              "#7201a8"
             ],
             [
              0.3333333333333333,
              "#9c179e"
             ],
             [
              0.4444444444444444,
              "#bd3786"
             ],
             [
              0.5555555555555556,
              "#d8576b"
             ],
             [
              0.6666666666666666,
              "#ed7953"
             ],
             [
              0.7777777777777778,
              "#fb9f3a"
             ],
             [
              0.8888888888888888,
              "#fdca26"
             ],
             [
              1,
              "#f0f921"
             ]
            ],
            "type": "histogram2d"
           }
          ],
          "histogram2dcontour": [
           {
            "colorbar": {
             "outlinewidth": 0,
             "ticks": ""
            },
            "colorscale": [
             [
              0,
              "#0d0887"
             ],
             [
              0.1111111111111111,
              "#46039f"
             ],
             [
              0.2222222222222222,
              "#7201a8"
             ],
             [
              0.3333333333333333,
              "#9c179e"
             ],
             [
              0.4444444444444444,
              "#bd3786"
             ],
             [
              0.5555555555555556,
              "#d8576b"
             ],
             [
              0.6666666666666666,
              "#ed7953"
             ],
             [
              0.7777777777777778,
              "#fb9f3a"
             ],
             [
              0.8888888888888888,
              "#fdca26"
             ],
             [
              1,
              "#f0f921"
             ]
            ],
            "type": "histogram2dcontour"
           }
          ],
          "mesh3d": [
           {
            "colorbar": {
             "outlinewidth": 0,
             "ticks": ""
            },
            "type": "mesh3d"
           }
          ],
          "parcoords": [
           {
            "line": {
             "colorbar": {
              "outlinewidth": 0,
              "ticks": ""
             }
            },
            "type": "parcoords"
           }
          ],
          "pie": [
           {
            "automargin": true,
            "type": "pie"
           }
          ],
          "scatter": [
           {
            "marker": {
             "colorbar": {
              "outlinewidth": 0,
              "ticks": ""
             }
            },
            "type": "scatter"
           }
          ],
          "scatter3d": [
           {
            "line": {
             "colorbar": {
              "outlinewidth": 0,
              "ticks": ""
             }
            },
            "marker": {
             "colorbar": {
              "outlinewidth": 0,
              "ticks": ""
             }
            },
            "type": "scatter3d"
           }
          ],
          "scattercarpet": [
           {
            "marker": {
             "colorbar": {
              "outlinewidth": 0,
              "ticks": ""
             }
            },
            "type": "scattercarpet"
           }
          ],
          "scattergeo": [
           {
            "marker": {
             "colorbar": {
              "outlinewidth": 0,
              "ticks": ""
             }
            },
            "type": "scattergeo"
           }
          ],
          "scattergl": [
           {
            "marker": {
             "colorbar": {
              "outlinewidth": 0,
              "ticks": ""
             }
            },
            "type": "scattergl"
           }
          ],
          "scattermapbox": [
           {
            "marker": {
             "colorbar": {
              "outlinewidth": 0,
              "ticks": ""
             }
            },
            "type": "scattermapbox"
           }
          ],
          "scatterpolar": [
           {
            "marker": {
             "colorbar": {
              "outlinewidth": 0,
              "ticks": ""
             }
            },
            "type": "scatterpolar"
           }
          ],
          "scatterpolargl": [
           {
            "marker": {
             "colorbar": {
              "outlinewidth": 0,
              "ticks": ""
             }
            },
            "type": "scatterpolargl"
           }
          ],
          "scatterternary": [
           {
            "marker": {
             "colorbar": {
              "outlinewidth": 0,
              "ticks": ""
             }
            },
            "type": "scatterternary"
           }
          ],
          "surface": [
           {
            "colorbar": {
             "outlinewidth": 0,
             "ticks": ""
            },
            "colorscale": [
             [
              0,
              "#0d0887"
             ],
             [
              0.1111111111111111,
              "#46039f"
             ],
             [
              0.2222222222222222,
              "#7201a8"
             ],
             [
              0.3333333333333333,
              "#9c179e"
             ],
             [
              0.4444444444444444,
              "#bd3786"
             ],
             [
              0.5555555555555556,
              "#d8576b"
             ],
             [
              0.6666666666666666,
              "#ed7953"
             ],
             [
              0.7777777777777778,
              "#fb9f3a"
             ],
             [
              0.8888888888888888,
              "#fdca26"
             ],
             [
              1,
              "#f0f921"
             ]
            ],
            "type": "surface"
           }
          ],
          "table": [
           {
            "cells": {
             "fill": {
              "color": "#EBF0F8"
             },
             "line": {
              "color": "white"
             }
            },
            "header": {
             "fill": {
              "color": "#C8D4E3"
             },
             "line": {
              "color": "white"
             }
            },
            "type": "table"
           }
          ]
         },
         "layout": {
          "annotationdefaults": {
           "arrowcolor": "#2a3f5f",
           "arrowhead": 0,
           "arrowwidth": 1
          },
          "autotypenumbers": "strict",
          "coloraxis": {
           "colorbar": {
            "outlinewidth": 0,
            "ticks": ""
           }
          },
          "colorscale": {
           "diverging": [
            [
             0,
             "#8e0152"
            ],
            [
             0.1,
             "#c51b7d"
            ],
            [
             0.2,
             "#de77ae"
            ],
            [
             0.3,
             "#f1b6da"
            ],
            [
             0.4,
             "#fde0ef"
            ],
            [
             0.5,
             "#f7f7f7"
            ],
            [
             0.6,
             "#e6f5d0"
            ],
            [
             0.7,
             "#b8e186"
            ],
            [
             0.8,
             "#7fbc41"
            ],
            [
             0.9,
             "#4d9221"
            ],
            [
             1,
             "#276419"
            ]
           ],
           "sequential": [
            [
             0,
             "#0d0887"
            ],
            [
             0.1111111111111111,
             "#46039f"
            ],
            [
             0.2222222222222222,
             "#7201a8"
            ],
            [
             0.3333333333333333,
             "#9c179e"
            ],
            [
             0.4444444444444444,
             "#bd3786"
            ],
            [
             0.5555555555555556,
             "#d8576b"
            ],
            [
             0.6666666666666666,
             "#ed7953"
            ],
            [
             0.7777777777777778,
             "#fb9f3a"
            ],
            [
             0.8888888888888888,
             "#fdca26"
            ],
            [
             1,
             "#f0f921"
            ]
           ],
           "sequentialminus": [
            [
             0,
             "#0d0887"
            ],
            [
             0.1111111111111111,
             "#46039f"
            ],
            [
             0.2222222222222222,
             "#7201a8"
            ],
            [
             0.3333333333333333,
             "#9c179e"
            ],
            [
             0.4444444444444444,
             "#bd3786"
            ],
            [
             0.5555555555555556,
             "#d8576b"
            ],
            [
             0.6666666666666666,
             "#ed7953"
            ],
            [
             0.7777777777777778,
             "#fb9f3a"
            ],
            [
             0.8888888888888888,
             "#fdca26"
            ],
            [
             1,
             "#f0f921"
            ]
           ]
          },
          "colorway": [
           "#636efa",
           "#EF553B",
           "#00cc96",
           "#ab63fa",
           "#FFA15A",
           "#19d3f3",
           "#FF6692",
           "#B6E880",
           "#FF97FF",
           "#FECB52"
          ],
          "font": {
           "color": "#2a3f5f"
          },
          "geo": {
           "bgcolor": "white",
           "lakecolor": "white",
           "landcolor": "#E5ECF6",
           "showlakes": true,
           "showland": true,
           "subunitcolor": "white"
          },
          "hoverlabel": {
           "align": "left"
          },
          "hovermode": "closest",
          "mapbox": {
           "style": "light"
          },
          "paper_bgcolor": "white",
          "plot_bgcolor": "#E5ECF6",
          "polar": {
           "angularaxis": {
            "gridcolor": "white",
            "linecolor": "white",
            "ticks": ""
           },
           "bgcolor": "#E5ECF6",
           "radialaxis": {
            "gridcolor": "white",
            "linecolor": "white",
            "ticks": ""
           }
          },
          "scene": {
           "xaxis": {
            "backgroundcolor": "#E5ECF6",
            "gridcolor": "white",
            "gridwidth": 2,
            "linecolor": "white",
            "showbackground": true,
            "ticks": "",
            "zerolinecolor": "white"
           },
           "yaxis": {
            "backgroundcolor": "#E5ECF6",
            "gridcolor": "white",
            "gridwidth": 2,
            "linecolor": "white",
            "showbackground": true,
            "ticks": "",
            "zerolinecolor": "white"
           },
           "zaxis": {
            "backgroundcolor": "#E5ECF6",
            "gridcolor": "white",
            "gridwidth": 2,
            "linecolor": "white",
            "showbackground": true,
            "ticks": "",
            "zerolinecolor": "white"
           }
          },
          "shapedefaults": {
           "line": {
            "color": "#2a3f5f"
           }
          },
          "ternary": {
           "aaxis": {
            "gridcolor": "white",
            "linecolor": "white",
            "ticks": ""
           },
           "baxis": {
            "gridcolor": "white",
            "linecolor": "white",
            "ticks": ""
           },
           "bgcolor": "#E5ECF6",
           "caxis": {
            "gridcolor": "white",
            "linecolor": "white",
            "ticks": ""
           }
          },
          "title": {
           "x": 0.05
          },
          "xaxis": {
           "automargin": true,
           "gridcolor": "white",
           "linecolor": "white",
           "ticks": "",
           "title": {
            "standoff": 15
           },
           "zerolinecolor": "white",
           "zerolinewidth": 2
          },
          "yaxis": {
           "automargin": true,
           "gridcolor": "white",
           "linecolor": "white",
           "ticks": "",
           "title": {
            "standoff": 15
           },
           "zerolinecolor": "white",
           "zerolinewidth": 2
          }
         }
        },
        "xaxis": {
         "anchor": "y",
         "domain": [
          0,
          1
         ],
         "title": {
          "text": "units"
         }
        },
        "yaxis": {
         "anchor": "x",
         "domain": [
          0,
          1
         ],
         "title": {
          "text": "val_accuracy"
         }
        }
       }
      }
     },
     "metadata": {},
     "output_type": "display_data"
    }
   ],
   "source": [
    "# pip install plotly\n",
    "import plotly.express as px\n",
    "fig = px.scatter(trials_hp, x='units', y='val_accuracy', color='activation', symbol='optimizer')\n",
    "fig.show()"
   ]
  },
  {
   "cell_type": "markdown",
   "metadata": {},
   "source": [
    "The models can also be compared based on the number of epochs. (this part still has to be finished)"
   ]
  },
  {
   "cell_type": "code",
   "execution_count": 29,
   "metadata": {},
   "outputs": [
    {
     "data": {
      "text/html": [
       "<div>\n",
       "<style scoped>\n",
       "    .dataframe tbody tr th:only-of-type {\n",
       "        vertical-align: middle;\n",
       "    }\n",
       "\n",
       "    .dataframe tbody tr th {\n",
       "        vertical-align: top;\n",
       "    }\n",
       "\n",
       "    .dataframe thead th {\n",
       "        text-align: right;\n",
       "    }\n",
       "</style>\n",
       "<table border=\"1\" class=\"dataframe\">\n",
       "  <thead>\n",
       "    <tr style=\"text-align: right;\">\n",
       "      <th></th>\n",
       "      <th>epoch</th>\n",
       "      <th>accuracy</th>\n",
       "      <th>loss</th>\n",
       "      <th>val_accuracy</th>\n",
       "      <th>val_loss</th>\n",
       "      <th>trial_id</th>\n",
       "      <th>activation</th>\n",
       "      <th>optimizer</th>\n",
       "      <th>units</th>\n",
       "    </tr>\n",
       "  </thead>\n",
       "  <tbody>\n",
       "    <tr>\n",
       "      <th>0</th>\n",
       "      <td>0</td>\n",
       "      <td>0.443048</td>\n",
       "      <td>1.756191</td>\n",
       "      <td>0.602637</td>\n",
       "      <td>1.243153</td>\n",
       "      <td>trial_0</td>\n",
       "      <td>tanh</td>\n",
       "      <td>adam</td>\n",
       "      <td>185.0</td>\n",
       "    </tr>\n",
       "    <tr>\n",
       "      <th>1</th>\n",
       "      <td>1</td>\n",
       "      <td>0.673349</td>\n",
       "      <td>0.920970</td>\n",
       "      <td>0.817326</td>\n",
       "      <td>0.673794</td>\n",
       "      <td>trial_0</td>\n",
       "      <td>tanh</td>\n",
       "      <td>adam</td>\n",
       "      <td>185.0</td>\n",
       "    </tr>\n",
       "    <tr>\n",
       "      <th>2</th>\n",
       "      <td>2</td>\n",
       "      <td>0.765809</td>\n",
       "      <td>0.668693</td>\n",
       "      <td>0.887006</td>\n",
       "      <td>0.438549</td>\n",
       "      <td>trial_0</td>\n",
       "      <td>tanh</td>\n",
       "      <td>adam</td>\n",
       "      <td>185.0</td>\n",
       "    </tr>\n",
       "    <tr>\n",
       "      <th>3</th>\n",
       "      <td>3</td>\n",
       "      <td>0.812986</td>\n",
       "      <td>0.531935</td>\n",
       "      <td>0.881356</td>\n",
       "      <td>0.382570</td>\n",
       "      <td>trial_0</td>\n",
       "      <td>tanh</td>\n",
       "      <td>adam</td>\n",
       "      <td>185.0</td>\n",
       "    </tr>\n",
       "    <tr>\n",
       "      <th>4</th>\n",
       "      <td>4</td>\n",
       "      <td>0.843607</td>\n",
       "      <td>0.460407</td>\n",
       "      <td>0.911488</td>\n",
       "      <td>0.307887</td>\n",
       "      <td>trial_0</td>\n",
       "      <td>tanh</td>\n",
       "      <td>adam</td>\n",
       "      <td>185.0</td>\n",
       "    </tr>\n",
       "    <tr>\n",
       "      <th>...</th>\n",
       "      <td>...</td>\n",
       "      <td>...</td>\n",
       "      <td>...</td>\n",
       "      <td>...</td>\n",
       "      <td>...</td>\n",
       "      <td>...</td>\n",
       "      <td>...</td>\n",
       "      <td>...</td>\n",
       "      <td>...</td>\n",
       "    </tr>\n",
       "    <tr>\n",
       "      <th>345</th>\n",
       "      <td>2</td>\n",
       "      <td>0.699980</td>\n",
       "      <td>0.805823</td>\n",
       "      <td>0.809793</td>\n",
       "      <td>0.605748</td>\n",
       "      <td>trial_49</td>\n",
       "      <td>tanh</td>\n",
       "      <td>sgd</td>\n",
       "      <td>215.0</td>\n",
       "    </tr>\n",
       "    <tr>\n",
       "      <th>346</th>\n",
       "      <td>3</td>\n",
       "      <td>0.757431</td>\n",
       "      <td>0.665559</td>\n",
       "      <td>0.858757</td>\n",
       "      <td>0.401038</td>\n",
       "      <td>trial_49</td>\n",
       "      <td>tanh</td>\n",
       "      <td>sgd</td>\n",
       "      <td>215.0</td>\n",
       "    </tr>\n",
       "    <tr>\n",
       "      <th>347</th>\n",
       "      <td>4</td>\n",
       "      <td>0.797826</td>\n",
       "      <td>0.558888</td>\n",
       "      <td>0.900188</td>\n",
       "      <td>0.337164</td>\n",
       "      <td>trial_49</td>\n",
       "      <td>tanh</td>\n",
       "      <td>sgd</td>\n",
       "      <td>215.0</td>\n",
       "    </tr>\n",
       "    <tr>\n",
       "      <th>348</th>\n",
       "      <td>5</td>\n",
       "      <td>0.823758</td>\n",
       "      <td>0.494412</td>\n",
       "      <td>0.911488</td>\n",
       "      <td>0.283255</td>\n",
       "      <td>trial_49</td>\n",
       "      <td>tanh</td>\n",
       "      <td>sgd</td>\n",
       "      <td>215.0</td>\n",
       "    </tr>\n",
       "    <tr>\n",
       "      <th>349</th>\n",
       "      <td>6</td>\n",
       "      <td>0.850090</td>\n",
       "      <td>0.425873</td>\n",
       "      <td>0.926554</td>\n",
       "      <td>0.220054</td>\n",
       "      <td>trial_49</td>\n",
       "      <td>tanh</td>\n",
       "      <td>sgd</td>\n",
       "      <td>215.0</td>\n",
       "    </tr>\n",
       "  </tbody>\n",
       "</table>\n",
       "<p>350 rows × 9 columns</p>\n",
       "</div>"
      ],
      "text/plain": [
       "     epoch  accuracy      loss  val_accuracy  val_loss  trial_id activation  \\\n",
       "0        0  0.443048  1.756191      0.602637  1.243153   trial_0       tanh   \n",
       "1        1  0.673349  0.920970      0.817326  0.673794   trial_0       tanh   \n",
       "2        2  0.765809  0.668693      0.887006  0.438549   trial_0       tanh   \n",
       "3        3  0.812986  0.531935      0.881356  0.382570   trial_0       tanh   \n",
       "4        4  0.843607  0.460407      0.911488  0.307887   trial_0       tanh   \n",
       "..     ...       ...       ...           ...       ...       ...        ...   \n",
       "345      2  0.699980  0.805823      0.809793  0.605748  trial_49       tanh   \n",
       "346      3  0.757431  0.665559      0.858757  0.401038  trial_49       tanh   \n",
       "347      4  0.797826  0.558888      0.900188  0.337164  trial_49       tanh   \n",
       "348      5  0.823758  0.494412      0.911488  0.283255  trial_49       tanh   \n",
       "349      6  0.850090  0.425873      0.926554  0.220054  trial_49       tanh   \n",
       "\n",
       "    optimizer  units  \n",
       "0        adam  185.0  \n",
       "1        adam  185.0  \n",
       "2        adam  185.0  \n",
       "3        adam  185.0  \n",
       "4        adam  185.0  \n",
       "..        ...    ...  \n",
       "345       sgd  215.0  \n",
       "346       sgd  215.0  \n",
       "347       sgd  215.0  \n",
       "348       sgd  215.0  \n",
       "349       sgd  215.0  \n",
       "\n",
       "[350 rows x 9 columns]"
      ]
     },
     "execution_count": 29,
     "metadata": {},
     "output_type": "execute_result"
    }
   ],
   "source": [
    "df = pd.merge(trial_history, trials_hp[['activation', 'optimizer', 'units', 'trial_id']], on='trial_id')\n",
    "df"
   ]
  },
  {
   "cell_type": "code",
   "execution_count": null,
   "metadata": {},
   "outputs": [],
   "source": [
    "a_model = tuner.get_best_models(num_models=5)[3]"
   ]
  },
  {
   "cell_type": "code",
   "execution_count": null,
   "metadata": {},
   "outputs": [],
   "source": [
    "best_model = tuner.get_best_models(num_models=1)[0]"
   ]
  },
  {
   "cell_type": "code",
   "execution_count": null,
   "metadata": {},
   "outputs": [],
   "source": [
    "best_model.fit(X_train_scaled, y_train, epochs=6, batch_size=21, shuffle=False)"
   ]
  },
  {
   "cell_type": "code",
   "execution_count": null,
   "metadata": {},
   "outputs": [],
   "source": [
    "import matplotlib.pyplot as plt\n",
    "from matplotlib.pyplot import figure\n",
    "\n",
    "epochs = np.arange(1, len(best_model.history.history['loss']) + 1)\n",
    "\n",
    "fig, (ax1, ax2) = plt.subplots(2, 1, figsize=(15, 8))\n",
    "fig.suptitle('Train scores')\n",
    "\n",
    "ax1.plot(epochs, best_model.history.history['loss'], 'o-')\n",
    "ax1.set_ylabel('train_loss')\n",
    "\n",
    "ax2.plot(epochs, best_model.history.history['accuracy'], '.-')\n",
    "ax2.set_xlabel('epochs')\n",
    "ax2.set_ylabel('accuracy')\n",
    "\n",
    "plt.show()"
   ]
  },
  {
   "cell_type": "code",
   "execution_count": null,
   "metadata": {},
   "outputs": [],
   "source": [
    "best_model.save('./best_model')"
   ]
  },
  {
   "cell_type": "code",
   "execution_count": null,
   "metadata": {},
   "outputs": [],
   "source": [
    "LSTM_model = load_model('./best_model')"
   ]
  },
  {
   "cell_type": "markdown",
   "metadata": {},
   "source": [
    "## Reproducing fig 9\n",
    "We are starting with reproducing figure 9, taken from the original paper:\n",
    "\n",
    "<img src=\"original_figure9.png\" alt=\"Graph showing 4 different classfiers' robustness to noise. LSTM is clearly the most robust\" style=\"width: 500px;\"/>\n",
    "\n",
    "To do this, we first need the 4 different models shown (LSTM, FCNN, DecisionTree, RandomForest) in the graph. We use the LSTM that we found through the hyper parameter tuning above. The design of the FCNN that was likely used for this graph can be found in the code provided by the original author. The DecisionTree and RandomForest can be imported straight from keras. "
   ]
  },
  {
   "cell_type": "markdown",
   "metadata": {},
   "source": [
    "To start, we prepare the data again. This is done to keep everythhing contained a bit, and not use data that was prepared in a different part of the code. We load the data, one hot encode the labels and create train/test sets. Lastly, we scale the training and testing inputs."
   ]
  },
  {
   "cell_type": "code",
   "execution_count": 244,
   "metadata": {},
   "outputs": [],
   "source": [
    "# Get a clean copy of the data to make sure previous cells did not do something unexpected to the data\n",
    "# As in the original paper, these model will be trained on the data without 'windows' (ie group of consecutive data points)\n",
    "# This data will be marked as _nw (No Window) I do agree the names are getting a little long\n",
    "\n",
    "df = pd.read_csv('./Data/korea_vehicledata.csv')\n",
    "X_nw, y_nw = pre_process_encoder(df)\n",
    "\n",
    "encoder = LabelEncoder()\n",
    "encoder.fit(y_nw)\n",
    "y_ints = encoder.transform(y_nw)  # A, B, C, ... --> 1, 2, 3, ...\n",
    "y_dummy_nw = np_utils.to_categorical(y_ints)\n",
    "X_train_nw, X_test_nw, y_train_nw, y_test_nw =train_test_split(X_nw, y_dummy_nw, train_size=0.85)\n",
    "X_train_scaled_nw = normalizing_2d(X_train_nw)\n",
    "X_test_scaled_nw = normalizing_2d(X_test_nw)\n"
   ]
  },
  {
   "cell_type": "markdown",
   "metadata": {},
   "source": [
    "We import the layers we need (some were already imported but for me it is nice to be able to run just this part - hence I import them again).\n",
    "We also import some functions and classifiers from sklearn."
   ]
  },
  {
   "cell_type": "code",
   "execution_count": 245,
   "metadata": {},
   "outputs": [],
   "source": [
    "from keras.layers import Flatten, Dense\n",
    "from sklearn.metrics import classification_report, confusion_matrix  \n",
    "from sklearn.tree import DecisionTreeClassifier\n",
    "from sklearn.ensemble import RandomForestClassifier"
   ]
  },
  {
   "cell_type": "markdown",
   "metadata": {},
   "source": [
    "We start by creating the FCNN, by adapting (but mainly copying) the code from the author and fitting it on the training data."
   ]
  },
  {
   "cell_type": "code",
   "execution_count": 246,
   "metadata": {},
   "outputs": [
    {
     "name": "stdout",
     "output_type": "stream",
     "text": [
      "Epoch 1/10\n",
      "803/803 [==============================] - 5s 4ms/step - loss: 1.2338 - accuracy: 0.5514\n",
      "Epoch 2/10\n",
      "803/803 [==============================] - 3s 4ms/step - loss: 0.6483 - accuracy: 0.7581\n",
      "Epoch 3/10\n",
      "803/803 [==============================] - 4s 4ms/step - loss: 0.4791 - accuracy: 0.8220\n",
      "Epoch 4/10\n",
      "803/803 [==============================] - 3s 4ms/step - loss: 0.4007 - accuracy: 0.8532\n",
      "Epoch 5/10\n",
      "803/803 [==============================] - 4s 4ms/step - loss: 0.3503 - accuracy: 0.8734\n",
      "Epoch 6/10\n",
      "803/803 [==============================] - 3s 4ms/step - loss: 0.3175 - accuracy: 0.8834\n",
      "Epoch 7/10\n",
      "803/803 [==============================] - 3s 4ms/step - loss: 0.2914 - accuracy: 0.8935\n",
      "Epoch 8/10\n",
      "803/803 [==============================] - 4s 5ms/step - loss: 0.2670 - accuracy: 0.9031\n",
      "Epoch 9/10\n",
      "803/803 [==============================] - 4s 5ms/step - loss: 0.2473 - accuracy: 0.9108\n",
      "Epoch 10/10\n",
      "803/803 [==============================] - 4s 5ms/step - loss: 0.2268 - accuracy: 0.9183\n"
     ]
    }
   ],
   "source": [
    "FCNN_model = Sequential()\n",
    "# FCNN_model.add(Flatten())  # Flatten the input data so it can be passed through the dense layer\n",
    "FCNN_model.add(Dense(160, input_dim=X_train_scaled_nw.shape[1], activation='relu'))\n",
    "FCNN_model.add(layers.BatchNormalization())\n",
    "FCNN_model.add(layers.Dropout(0.5))\n",
    "FCNN_model.add(Dense(120, activation='relu'))\n",
    "FCNN_model.add(layers.BatchNormalization())\n",
    "FCNN_model.add(Dense(y_test_nw.shape[1], activation='softmax'))\n",
    "# FCNN_model.add(Dense(1,activation='sigmoid'))\n",
    "# FCNN_model.compile(loss='binary_crossentropy', optimizer='adam', metrics=['accuracy'])\n",
    "FCNN_model.compile(loss='categorical_crossentropy', optimizer='adam', metrics=['accuracy'])\n",
    "os.environ[\"CUDA_VISIBLE_DEVICES\"] = \"0\"\n",
    "with tf.device('/GPU:0'):\n",
    "    FCNN_history = FCNN_model.fit(X_train_scaled_nw, y_train_nw, epochs=10,batch_size=100, shuffle=True)"
   ]
  },
  {
   "cell_type": "markdown",
   "metadata": {},
   "source": [
    "We create a function to get the accuracy: it un-one-hot-encodes the predicted and true labels, and then get the accuracy. This will help to show if the DecisionTree and RandomForest are working as they should."
   ]
  },
  {
   "cell_type": "code",
   "execution_count": 252,
   "metadata": {},
   "outputs": [],
   "source": [
    "def test_accuracy(model, X, y):\n",
    "    y_predict = model.predict(X)\n",
    "    y_pred=np.argmax(y_predict, axis=1)\n",
    "    y_test=np.argmax(y, axis=1)\n",
    "    return metrics.accuracy_score(y_test, y_pred)"
   ]
  },
  {
   "cell_type": "markdown",
   "metadata": {},
   "source": [
    "\n",
    "\n",
    "We now create a DecisionTree and RandomForest classifier. We also get their accuracies on both the test and training data to see if they are over or underfitting.\n"
   ]
  },
  {
   "cell_type": "code",
   "execution_count": 253,
   "metadata": {},
   "outputs": [
    {
     "name": "stdout",
     "output_type": "stream",
     "text": [
      "### DecisionTree ###\n",
      "\n",
      "Training data accuracy:\n",
      "1.0\n",
      "Test accuracy:\n",
      "0.9817757999576181\n",
      "\n",
      "### RandomForest ###\n",
      "\n",
      "Training data accuracy:\n",
      "0.9999875347468931\n",
      "Test accuracy:\n",
      "0.9710390619481528\n"
     ]
    }
   ],
   "source": [
    "# Both the tree and forest are trained on the data WITHOUT windows\n",
    "# Accuracy is higer that way then when training on data with windows (which is then reshaped)\n",
    "\n",
    "print(\"### DecisionTree ###\\n\")\n",
    "DT_model = DecisionTreeClassifier()\n",
    "DT_model.fit(X_train_scaled_nw, y_train_nw)\n",
    "\n",
    "print(\"Training data accuracy:\")\n",
    "print(test_accuracy(DT_model, X_train_scaled_nw, y_train_nw))\n",
    "\n",
    "print(\"Test accuracy:\")\n",
    "print(test_accuracy(DT_model, X_test_scaled_nw, y_test_nw))\n",
    "\n",
    "print(\"\\n### RandomForest ###\\n\")\n",
    "RF_model = RandomForestClassifier(n_estimators=50)  # original paper uses 20 estimators\n",
    "RF_model.fit(X_train_scaled_nw, y_train_nw)\n",
    "\n",
    "print(\"Training data accuracy:\")\n",
    "print(test_accuracy(RF_model, X_train_scaled_nw, y_train_nw))\n",
    "\n",
    "print(\"Test accuracy:\")\n",
    "print(test_accuracy(RF_model, X_test_scaled_nw, y_test_nw))"
   ]
  },
  {
   "cell_type": "markdown",
   "metadata": {},
   "source": [
    "We now have the four models, but the LSTM and FCNN are not very well trained yet. Their accuracy is around 90% while the paper is closer to 100%. To fix this, we let them train for a bit longer. I suggest not to use this and just load the model:)"
   ]
  },
  {
   "cell_type": "code",
   "execution_count": 248,
   "metadata": {},
   "outputs": [],
   "source": [
    "using_saved_model = True\n",
    "\n",
    "if using_saved_model:\n",
    "    FCNN_model_ = load_model('./FCNN_model_reproduce')\n",
    "    LSTM_model = load_model('./LSTM_model_reproduce')\n",
    "else:  # fit the models\n",
    "    with tf.device('/GPU:0'):\n",
    "        FCNN_history = FCNN_model.fit(X_train_scaled_nw, y_train_nw, epochs=150,batch_size=100, shuffle=True)\n",
    "        FCNN_model.save('./FCNN_model_reproduce')\n",
    "        # Make sure to train LSTM on 'windowed' data\n",
    "        LSTM_history = LSTM_model.fit(X_train_scaled, y_train, epochs=150, batch_size=21, shuffle=False)\n",
    "        LSTM_model.save('./LSTM_model_reproduce')\n",
    "\n",
    "    "
   ]
  },
  {
   "cell_type": "markdown",
   "metadata": {},
   "source": [
    "For a quick overview: these are the models' performance on the data without any noise"
   ]
  },
  {
   "cell_type": "code",
   "execution_count": 239,
   "metadata": {},
   "outputs": [
    {
     "name": "stdout",
     "output_type": "stream",
     "text": [
      "FCNN accuracy is 0.6171505262414353\n",
      "LSTM accuracy is 0.9378531073446328\n",
      "DecisionTree accuracy is 0.4126580490216854\n",
      "RandomForest accuracy is 0.25725789362153\n"
     ]
    }
   ],
   "source": [
    "print(f\"FCNN accuracy is {test_accuracy(FCNN_model, X_test_scaled_nw, y_test_nw)}\")\n",
    "print(f\"LSTM accuracy is {test_accuracy(LSTM_model, X_test, y_test)}\")\n",
    "print(f\"DecisionTree accuracy is {test_accuracy(DT_model, X_test_scaled_nw, y_test_nw)}\")\n",
    "print(f\"RandomForest accuracy is {test_accuracy(RF_model, X_test_scaled_nw, y_test_nw)}\")"
   ]
  },
  {
   "cell_type": "markdown",
   "metadata": {},
   "source": [
    "Now that all models exist, we can start adding noise to the test data. To do this, we create function that takes NORMALIZED data and a standard deviation for the noise and returns the data with added noise."
   ]
  },
  {
   "cell_type": "code",
   "execution_count": 240,
   "metadata": {},
   "outputs": [],
   "source": [
    "def add_noise(data, sigma):        \n",
    "    size_ = data.shape\n",
    "    noise = np.random.normal(0, sigma, size=size_) # 1000 samples with normal distribution\n",
    "    return data+noise"
   ]
  },
  {
   "cell_type": "markdown",
   "metadata": {},
   "source": [
    "\n",
    "\n",
    "To show that the function works, we print the difference between some data before and after the noise function.\n"
   ]
  },
  {
   "cell_type": "code",
   "execution_count": 241,
   "metadata": {},
   "outputs": [
    {
     "name": "stdout",
     "output_type": "stream",
     "text": [
      "[ 0.12293703 -0.48958351  0.98242962 -0.14770996  0.72822602  0.58351936\n",
      " -0.44160971 -0.20891797  0.226717    1.80536016  1.35391289 -1.49169915\n",
      " -1.57706254 -0.49402458 -0.35446895  1.63185853 -1.8127751   1.54201829\n",
      " -1.3346066   0.28531054  0.68101583 -0.19884329 -1.07003639  1.3937769\n",
      "  2.52821343  0.66500026  1.31355427  1.40451657 -1.33391794  1.02715197\n",
      "  1.60644385  0.24819514  0.43778317  0.95166043 -0.40778039 -0.38825723\n",
      "  0.05215606 -0.21343535 -0.96813967  0.12072641 -0.7639576  -1.62400056\n",
      " -0.65162017  0.00880539 -0.11087607  0.18846292 -0.41202447 -0.97264991\n",
      " -0.80642138 -0.3376147   0.1589283  -0.57877558 -0.85446733]\n"
     ]
    }
   ],
   "source": [
    "print((add_noise(X_train_scaled_nw, 1) - X_train_scaled_nw)[0])"
   ]
  },
  {
   "cell_type": "markdown",
   "metadata": {},
   "source": [
    "We can now loop through increasing amounts of noise and get the accuracy for each noisy data."
   ]
  },
  {
   "cell_type": "code",
   "execution_count": 249,
   "metadata": {},
   "outputs": [
    {
     "data": {
      "text/plain": [
       "[<matplotlib.lines.Line2D at 0x7f9889fddac0>]"
      ]
     },
     "execution_count": 249,
     "metadata": {},
     "output_type": "execute_result"
    },
    {
     "data": {
      "image/png": "[encoded data removed]",
      "text/plain": [
       "<Figure size 432x288 with 1 Axes>"
      ]
     },
     "metadata": {},
     "output_type": "display_data"
    }
   ],
   "source": [
    "standard_deviation = [0, 0.05, 0.1, 0.25, 0.5, 0.75, 1, 1.5, 2]\n",
    "accuracy = []\n",
    "\n",
    "for sigma in standard_deviation:\n",
    "    X_noisy = add_noise(X_test, sigma)\n",
    "    accuracy.append(test_accuracy(LSTM_model, X_noisy, y_test))\n",
    "\n",
    "plt.plot(standard_deviation, accuracy)"
   ]
  },
  {
   "cell_type": "markdown",
   "metadata": {},
   "source": [
    "We can put this in a function, and call it for each model."
   ]
  },
  {
   "cell_type": "code",
   "execution_count": 251,
   "metadata": {},
   "outputs": [
    {
     "data": {
      "image/png": "[encoded data removed]",
      "text/plain": [
       "<Figure size 432x288 with 1 Axes>"
      ]
     },
     "metadata": {},
     "output_type": "display_data"
    }
   ],
   "source": [
    "def noise_robustness(model, X, y, standard_deviations):\n",
    "    accuracies = []\n",
    "\n",
    "    for sigma in standard_deviations:\n",
    "        X_noisy = add_noise(X, sigma)\n",
    "        accuracies.append(test_accuracy(model, X_noisy, y))\n",
    "\n",
    "    return standard_deviations, accuracies\n",
    "\n",
    "\n",
    "standard_deviation = [0, 0.05, 0.1, 0.25, 0.5, 0.75, 1, 1.5, 2]\n",
    "\n",
    "# These models use the same training data, so they can be called in a loop:\n",
    "for model, label in zip([FCNN_model, DT_model, RF_model], [\"FCNN_model\", \"DT_model\", \"RF_model\"]):\n",
    "    plot_data = noise_robustness(model, X_test_scaled_nw, y_test_nw, standard_deviation)\n",
    "    plt.plot(plot_data[0], plot_data[1], label=label)\n",
    "\n",
    "plot_data = noise_robustness(LSTM_model, X_test, y_test, standard_deviation)\n",
    "plt.plot(plot_data[0], plot_data[1], label=\"LSTM_model\")\n",
    "\n",
    "plt.legend()\n",
    "plt.show()"
   ]
  },
  {
   "cell_type": "markdown",
   "metadata": {},
   "source": [
    "## Reproducing fig 10\n",
    "\n",
    "To reproducde figure 10, we train the models ond data with noise. We then test the models on noisy data to see how they compare."
   ]
  },
  {
   "cell_type": "code",
   "execution_count": 254,
   "metadata": {},
   "outputs": [
    {
     "name": "stdout",
     "output_type": "stream",
     "text": [
      "Epoch 1/50\n",
      "2507/2507 [==============================] - 8s 3ms/step - loss: 2.0201 - accuracy: 0.3051\n",
      "Epoch 2/50\n",
      "2507/2507 [==============================] - 8s 3ms/step - loss: 1.8099 - accuracy: 0.3362\n",
      "Epoch 3/50\n",
      "2507/2507 [==============================] - 9s 3ms/step - loss: 1.7771 - accuracy: 0.3460\n",
      "Epoch 4/50\n",
      "2507/2507 [==============================] - 9s 4ms/step - loss: 1.7600 - accuracy: 0.3526\n",
      "Epoch 5/50\n",
      "2507/2507 [==============================] - 9s 4ms/step - loss: 1.7470 - accuracy: 0.3571\n",
      "Epoch 6/50\n",
      "2507/2507 [==============================] - 8s 3ms/step - loss: 1.7406 - accuracy: 0.3595\n",
      "Epoch 7/50\n",
      "2507/2507 [==============================] - 7s 3ms/step - loss: 1.7306 - accuracy: 0.3641\n",
      "Epoch 8/50\n",
      "2507/2507 [==============================] - 7s 3ms/step - loss: 1.7265 - accuracy: 0.3656\n",
      "Epoch 9/50\n",
      "2507/2507 [==============================] - 7s 3ms/step - loss: 1.7198 - accuracy: 0.3670\n",
      "Epoch 10/50\n",
      "2507/2507 [==============================] - 8s 3ms/step - loss: 1.7179 - accuracy: 0.3664\n",
      "Epoch 11/50\n",
      "2507/2507 [==============================] - 9s 4ms/step - loss: 1.7144 - accuracy: 0.3700\n",
      "Epoch 12/50\n",
      "2507/2507 [==============================] - 9s 3ms/step - loss: 1.7081 - accuracy: 0.3722\n",
      "Epoch 13/50\n",
      "2507/2507 [==============================] - 8s 3ms/step - loss: 1.7044 - accuracy: 0.3706\n",
      "Epoch 14/50\n",
      "2507/2507 [==============================] - 8s 3ms/step - loss: 1.7030 - accuracy: 0.3749\n",
      "Epoch 15/50\n",
      "2507/2507 [==============================] - 8s 3ms/step - loss: 1.7005 - accuracy: 0.3750\n",
      "Epoch 16/50\n",
      "2507/2507 [==============================] - 7s 3ms/step - loss: 1.6971 - accuracy: 0.3766\n",
      "Epoch 17/50\n",
      "2507/2507 [==============================] - 7s 3ms/step - loss: 1.6955 - accuracy: 0.3756\n",
      "Epoch 18/50\n",
      "2507/2507 [==============================] - 7s 3ms/step - loss: 1.6933 - accuracy: 0.3770\n",
      "Epoch 19/50\n",
      "2507/2507 [==============================] - 8s 3ms/step - loss: 1.6891 - accuracy: 0.3786\n",
      "Epoch 20/50\n",
      "2507/2507 [==============================] - 8s 3ms/step - loss: 1.6904 - accuracy: 0.3765\n",
      "Epoch 21/50\n",
      "2507/2507 [==============================] - 7s 3ms/step - loss: 1.6872 - accuracy: 0.3801\n",
      "Epoch 22/50\n",
      "2507/2507 [==============================] - 7s 3ms/step - loss: 1.6865 - accuracy: 0.3803\n",
      "Epoch 23/50\n",
      "2507/2507 [==============================] - 9s 4ms/step - loss: 1.6846 - accuracy: 0.3803\n",
      "Epoch 24/50\n",
      "2507/2507 [==============================] - 9s 4ms/step - loss: 1.6838 - accuracy: 0.3805\n",
      "Epoch 25/50\n",
      "2507/2507 [==============================] - 9s 3ms/step - loss: 1.6813 - accuracy: 0.3832\n",
      "Epoch 26/50\n",
      "2507/2507 [==============================] - 9s 4ms/step - loss: 1.6784 - accuracy: 0.3824\n",
      "Epoch 27/50\n",
      "2507/2507 [==============================] - 8s 3ms/step - loss: 1.6800 - accuracy: 0.3853\n",
      "Epoch 28/50\n",
      "2507/2507 [==============================] - 9s 4ms/step - loss: 1.6785 - accuracy: 0.3833\n",
      "Epoch 29/50\n",
      "2507/2507 [==============================] - 9s 4ms/step - loss: 1.6752 - accuracy: 0.3834\n",
      "Epoch 30/50\n",
      "2507/2507 [==============================] - 7s 3ms/step - loss: 1.6760 - accuracy: 0.3843\n",
      "Epoch 31/50\n",
      "2507/2507 [==============================] - 7s 3ms/step - loss: 1.6746 - accuracy: 0.3844\n",
      "Epoch 32/50\n",
      "2507/2507 [==============================] - 7s 3ms/step - loss: 1.6742 - accuracy: 0.3845\n",
      "Epoch 33/50\n",
      "2507/2507 [==============================] - 7s 3ms/step - loss: 1.6738 - accuracy: 0.3837\n",
      "Epoch 34/50\n",
      "2507/2507 [==============================] - 7s 3ms/step - loss: 1.6722 - accuracy: 0.3853\n",
      "Epoch 35/50\n",
      "2507/2507 [==============================] - 7s 3ms/step - loss: 1.6745 - accuracy: 0.3856\n",
      "Epoch 36/50\n",
      "2507/2507 [==============================] - 7s 3ms/step - loss: 1.6717 - accuracy: 0.3858\n",
      "Epoch 37/50\n",
      "2507/2507 [==============================] - 7s 3ms/step - loss: 1.6692 - accuracy: 0.3865\n",
      "Epoch 38/50\n",
      "2507/2507 [==============================] - 8s 3ms/step - loss: 1.6692 - accuracy: 0.3843\n",
      "Epoch 39/50\n",
      "2507/2507 [==============================] - 12s 5ms/step - loss: 1.6690 - accuracy: 0.3867\n",
      "Epoch 40/50\n",
      "2507/2507 [==============================] - 12s 5ms/step - loss: 1.6674 - accuracy: 0.3863\n",
      "Epoch 41/50\n",
      "2507/2507 [==============================] - 9s 4ms/step - loss: 1.6658 - accuracy: 0.3890\n",
      "Epoch 42/50\n",
      "2507/2507 [==============================] - 9s 4ms/step - loss: 1.6654 - accuracy: 0.3900\n",
      "Epoch 43/50\n",
      "2507/2507 [==============================] - 15s 6ms/step - loss: 1.6673 - accuracy: 0.3883\n",
      "Epoch 44/50\n",
      "2507/2507 [==============================] - 18s 7ms/step - loss: 1.6652 - accuracy: 0.3888\n",
      "Epoch 45/50\n",
      "2507/2507 [==============================] - 13s 5ms/step - loss: 1.6629 - accuracy: 0.3883\n",
      "Epoch 46/50\n",
      "2507/2507 [==============================] - 9s 4ms/step - loss: 1.6642 - accuracy: 0.3910\n",
      "Epoch 47/50\n",
      "2507/2507 [==============================] - 11s 4ms/step - loss: 1.6662 - accuracy: 0.3878\n",
      "Epoch 48/50\n",
      "2507/2507 [==============================] - 12s 5ms/step - loss: 1.6617 - accuracy: 0.3889\n",
      "Epoch 49/50\n",
      "2507/2507 [==============================] - 9s 4ms/step - loss: 1.6640 - accuracy: 0.3901\n",
      "Epoch 50/50\n",
      "2507/2507 [==============================] - 12s 5ms/step - loss: 1.6651 - accuracy: 0.3870\n",
      "Epoch 1/50\n",
      "314/314 [==============================] - 31s 86ms/step - loss: 1.2204 - accuracy: 0.7026\n",
      "Epoch 2/50\n",
      "314/314 [==============================] - 27s 85ms/step - loss: 0.8452 - accuracy: 0.7405\n",
      "Epoch 3/50\n",
      "314/314 [==============================] - 26s 84ms/step - loss: 0.7178 - accuracy: 0.7606\n",
      "Epoch 4/50\n",
      "314/314 [==============================] - 26s 84ms/step - loss: 0.6679 - accuracy: 0.7753\n",
      "Epoch 5/50\n",
      "314/314 [==============================] - 26s 84ms/step - loss: 0.5770 - accuracy: 0.7986\n",
      "Epoch 6/50\n",
      "314/314 [==============================] - 26s 84ms/step - loss: 0.5688 - accuracy: 0.8106\n",
      "Epoch 7/50\n",
      "314/314 [==============================] - 26s 83ms/step - loss: 0.5329 - accuracy: 0.8184\n",
      "Epoch 8/50\n",
      "314/314 [==============================] - 26s 83ms/step - loss: 0.5005 - accuracy: 0.8267\n",
      "Epoch 9/50\n",
      "314/314 [==============================] - 26s 84ms/step - loss: 0.4763 - accuracy: 0.8355\n",
      "Epoch 10/50\n",
      "314/314 [==============================] - 26s 83ms/step - loss: 0.4599 - accuracy: 0.8379\n",
      "Epoch 11/50\n",
      "314/314 [==============================] - 26s 84ms/step - loss: 0.4348 - accuracy: 0.8508\n",
      "Epoch 12/50\n",
      "314/314 [==============================] - 26s 84ms/step - loss: 0.4217 - accuracy: 0.8548\n",
      "Epoch 13/50\n",
      "314/314 [==============================] - 25s 78ms/step - loss: 0.4143 - accuracy: 0.8578\n",
      "Epoch 14/50\n",
      "314/314 [==============================] - 26s 84ms/step - loss: 0.3865 - accuracy: 0.8662\n",
      "Epoch 15/50\n",
      "314/314 [==============================] - 26s 84ms/step - loss: 0.3634 - accuracy: 0.8698\n",
      "Epoch 16/50\n",
      "314/314 [==============================] - 26s 84ms/step - loss: 0.3497 - accuracy: 0.8753\n",
      "Epoch 17/50\n",
      "314/314 [==============================] - 26s 84ms/step - loss: 0.3387 - accuracy: 0.8843\n",
      "Epoch 18/50\n",
      "314/314 [==============================] - 26s 84ms/step - loss: 0.3217 - accuracy: 0.8877\n",
      "Epoch 19/50\n",
      "314/314 [==============================] - 26s 84ms/step - loss: 0.3265 - accuracy: 0.8863\n",
      "Epoch 20/50\n",
      "314/314 [==============================] - 26s 84ms/step - loss: 0.2940 - accuracy: 0.8991\n",
      "Epoch 21/50\n",
      "314/314 [==============================] - 26s 84ms/step - loss: 0.2837 - accuracy: 0.9041\n",
      "Epoch 22/50\n",
      "314/314 [==============================] - 26s 83ms/step - loss: 0.2593 - accuracy: 0.9072\n",
      "Epoch 23/50\n",
      "314/314 [==============================] - 26s 84ms/step - loss: 0.2622 - accuracy: 0.9102\n",
      "Epoch 24/50\n",
      "314/314 [==============================] - 27s 87ms/step - loss: 0.2515 - accuracy: 0.9132\n",
      "Epoch 25/50\n",
      "314/314 [==============================] - 24s 75ms/step - loss: 0.2547 - accuracy: 0.9119\n",
      "Epoch 26/50\n",
      "314/314 [==============================] - 26s 84ms/step - loss: 0.2327 - accuracy: 0.9185\n",
      "Epoch 27/50\n",
      "314/314 [==============================] - 27s 85ms/step - loss: 0.2250 - accuracy: 0.9230\n",
      "Epoch 28/50\n",
      "314/314 [==============================] - 26s 84ms/step - loss: 0.2125 - accuracy: 0.9240\n",
      "Epoch 29/50\n",
      "314/314 [==============================] - 26s 84ms/step - loss: 0.2130 - accuracy: 0.9260\n",
      "Epoch 30/50\n",
      "314/314 [==============================] - 27s 85ms/step - loss: 0.2093 - accuracy: 0.9286\n",
      "Epoch 31/50\n",
      "314/314 [==============================] - 27s 86ms/step - loss: 0.1890 - accuracy: 0.9367\n",
      "Epoch 32/50\n",
      "314/314 [==============================] - 26s 84ms/step - loss: 0.1787 - accuracy: 0.9373\n",
      "Epoch 33/50\n",
      "314/314 [==============================] - 27s 85ms/step - loss: 0.1839 - accuracy: 0.9358\n",
      "Epoch 34/50\n",
      "314/314 [==============================] - 26s 83ms/step - loss: 0.1696 - accuracy: 0.9436\n",
      "Epoch 35/50\n",
      "314/314 [==============================] - 26s 84ms/step - loss: 0.1616 - accuracy: 0.9460\n",
      "Epoch 36/50\n",
      "314/314 [==============================] - 26s 84ms/step - loss: 0.1605 - accuracy: 0.9440\n",
      "Epoch 37/50\n",
      "314/314 [==============================] - 26s 84ms/step - loss: 0.1554 - accuracy: 0.9473\n",
      "Epoch 38/50\n",
      "314/314 [==============================] - 27s 86ms/step - loss: 0.1797 - accuracy: 0.9382\n",
      "Epoch 39/50\n",
      "314/314 [==============================] - 26s 84ms/step - loss: 0.1565 - accuracy: 0.9493\n",
      "Epoch 40/50\n",
      "314/314 [==============================] - 27s 84ms/step - loss: 0.1442 - accuracy: 0.9516\n",
      "Epoch 41/50\n",
      "314/314 [==============================] - 26s 84ms/step - loss: 0.1419 - accuracy: 0.9530\n",
      "Epoch 42/50\n",
      "314/314 [==============================] - 26s 84ms/step - loss: 0.1358 - accuracy: 0.9533\n",
      "Epoch 43/50\n",
      "314/314 [==============================] - 26s 84ms/step - loss: 0.1288 - accuracy: 0.9553\n",
      "Epoch 44/50\n",
      "314/314 [==============================] - 26s 84ms/step - loss: 0.1191 - accuracy: 0.9605\n",
      "Epoch 45/50\n",
      "314/314 [==============================] - 23s 72ms/step - loss: 0.1195 - accuracy: 0.9603\n",
      "Epoch 46/50\n",
      "314/314 [==============================] - 26s 83ms/step - loss: 0.1146 - accuracy: 0.9627\n",
      "Epoch 47/50\n",
      "314/314 [==============================] - 26s 83ms/step - loss: 0.1100 - accuracy: 0.9642\n",
      "Epoch 48/50\n",
      "314/314 [==============================] - 26s 84ms/step - loss: 0.1077 - accuracy: 0.9660\n",
      "Epoch 49/50\n",
      "314/314 [==============================] - 26s 84ms/step - loss: 0.0987 - accuracy: 0.9686\n",
      "Epoch 50/50\n",
      "314/314 [==============================] - 27s 85ms/step - loss: 0.1063 - accuracy: 0.9642\n"
     ]
    },
    {
     "data": {
      "text/plain": [
       "<keras.callbacks.History at 0x7f9889e91280>"
      ]
     },
     "execution_count": 254,
     "metadata": {},
     "output_type": "execute_result"
    }
   ],
   "source": [
    "# It is unclear from the report if the same models are fitted or if he adds noisy data to the trained models.\n",
    "# We continue with the trained models.\n",
    "\n",
    "if using_saved_model:\n",
    "    LSTM_model = load_model('./LSTM_model_noise')\n",
    "    FCNN_model = load_model('./FCNN_model_noise')\n",
    "else:\n",
    "    # SD = 1 for the noise\n",
    "    X_noise_nw = add_noise(X_train_scaled_nw, 1)\n",
    "\n",
    "    FCNN_model.fit(X_noise_nw, y_train_nw, epochs=50)\n",
    "    FCNN_model.save('./FCNN_model_noise')\n",
    "\n",
    "    DT_model.fit(X_noise_nw, y_train_nw)\n",
    "    RF_model.fit(X_noise_nw, y_train_nw)\n",
    "\n",
    "    X_noise = add_noise(X_train_scaled, 1)\n",
    "\n",
    "    LSTM_model.fit(X_noise, y_train, epochs=50)\n",
    "    LSTM_model.save('./LSTM_model_noise')"
   ]
  },
  {
   "cell_type": "markdown",
   "metadata": {},
   "source": [
    "The trained models are then tested on data with noise (SD =1)"
   ]
  },
  {
   "cell_type": "code",
   "execution_count": 258,
   "metadata": {},
   "outputs": [
    {
     "data": {
      "text/plain": [
       "<BarContainer object of 4 artists>"
      ]
     },
     "execution_count": 258,
     "metadata": {},
     "output_type": "execute_result"
    },
    {
     "data": {
      "image/png": "[encoded data removed]",
      "text/plain": [
       "<Figure size 432x288 with 1 Axes>"
      ]
     },
     "metadata": {},
     "output_type": "display_data"
    }
   ],
   "source": [
    "standard_deviation = [1]\n",
    "\n",
    "models = [FCNN_model, DT_model, RF_model]\n",
    "\n",
    "accuracies = []\n",
    "\n",
    "_, accuracy = noise_robustness(LSTM_model, X_test, y_test, standard_deviation)\n",
    "accuracies.append(accuracy[0])\n",
    "\n",
    "# These models use the same training/testing data, so they can be called in a loop:\n",
    "for model in models:\n",
    "    _, accuracy = noise_robustness(model, X_test_scaled_nw, y_test_nw, standard_deviation)\n",
    "    accuracies.append(accuracy[0])\n",
    "\n",
    "\n",
    "\n",
    "names = [\"LSTM\", \"FCNN\", \"DecisionTree\", \"RandomForest\"]\n",
    "\n",
    "\n",
    "plt.title(\"Testing and training data noise, SD=1\")\n",
    "plt.ylabel(\"test accuracy\")\n",
    "plt.bar(names, accuracies)"
   ]
  }
 ],
 "metadata": {
  "interpreter": {
   "hash": "aee8b7b246df8f9039afb4144a1f6fd8d2ca17a180786b69acc140d282b71a49"
  },
  "kernelspec": {
   "display_name": "Python 3.9.5 64-bit",
   "language": "python",
   "name": "python3"
  },
  "language_info": {
   "codemirror_mode": {
    "name": "ipython",
    "version": 3
   },
   "file_extension": ".py",
   "mimetype": "text/x-python",
   "name": "python",
   "nbconvert_exporter": "python",
   "pygments_lexer": "ipython3",
   "version": "3.9.5"
  },
  "orig_nbformat": 4
 },
 "nbformat": 4,
 "nbformat_minor": 2
}
